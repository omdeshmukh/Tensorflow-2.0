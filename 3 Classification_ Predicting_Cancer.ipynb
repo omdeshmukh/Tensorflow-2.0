{
  "nbformat": 4,
  "nbformat_minor": 0,
  "metadata": {
    "colab": {
      "name": "Welcome To Colaboratory",
      "provenance": [],
      "collapsed_sections": [],
      "toc_visible": true,
      "include_colab_link": true
    },
    "kernelspec": {
      "display_name": "Python 3",
      "name": "python3"
    }
  },
  "cells": [
    {
      "cell_type": "markdown",
      "metadata": {
        "id": "view-in-github",
        "colab_type": "text"
      },
      "source": [
        "<a href=\"https://colab.research.google.com/github/omdeshmukh/Tensorflow-2.0/blob/master/3%20Classification_%20Predicting_Cancer.ipynb\" target=\"_parent\"><img src=\"https://colab.research.google.com/assets/colab-badge.svg\" alt=\"Open In Colab\"/></a>"
      ]
    },
    {
      "cell_type": "code",
      "metadata": {
        "id": "Qr-7kdGBDLJo",
        "colab_type": "code",
        "colab": {}
      },
      "source": [
        "!pip install -q tensorflow==2.0"
      ],
      "execution_count": 0,
      "outputs": []
    },
    {
      "cell_type": "code",
      "metadata": {
        "id": "pEBp0JbCDx9K",
        "colab_type": "code",
        "colab": {
          "base_uri": "https://localhost:8080/",
          "height": 35
        },
        "outputId": "3fd7dc2f-b9bb-4ef5-b7c8-614b0f1e33dd"
      },
      "source": [
        "import tensorflow as tf\n",
        "print(tf.__version__)"
      ],
      "execution_count": 7,
      "outputs": [
        {
          "output_type": "stream",
          "text": [
            "2.0.0\n"
          ],
          "name": "stdout"
        }
      ]
    },
    {
      "cell_type": "code",
      "metadata": {
        "id": "Ui-PC5ZTDOhk",
        "colab_type": "code",
        "colab": {}
      },
      "source": [
        "#load the data from SKlearn Datasets\n",
        "from sklearn.datasets import load_breast_cancer\n",
        "data=load_breast_cancer()"
      ],
      "execution_count": 0,
      "outputs": []
    },
    {
      "cell_type": "code",
      "metadata": {
        "id": "KD4Xy9oIDqMu",
        "colab_type": "code",
        "colab": {
          "base_uri": "https://localhost:8080/",
          "height": 35
        },
        "outputId": "bf652ec9-b694-4a97-becb-066d3d093989"
      },
      "source": [
        "# check the type of data\n",
        "type(data)"
      ],
      "execution_count": 11,
      "outputs": [
        {
          "output_type": "execute_result",
          "data": {
            "text/plain": [
              "sklearn.utils.Bunch"
            ]
          },
          "metadata": {
            "tags": []
          },
          "execution_count": 11
        }
      ]
    },
    {
      "cell_type": "code",
      "metadata": {
        "id": "WcvA6nVzEHUQ",
        "colab_type": "code",
        "colab": {
          "base_uri": "https://localhost:8080/",
          "height": 35
        },
        "outputId": "787c2781-d790-478b-c3f8-1aa67db735be"
      },
      "source": [
        "# NOte: the data type of this is bunch this acts like a dictonory\n",
        "data.keys()"
      ],
      "execution_count": 12,
      "outputs": [
        {
          "output_type": "execute_result",
          "data": {
            "text/plain": [
              "dict_keys(['data', 'target', 'target_names', 'DESCR', 'feature_names', 'filename'])"
            ]
          },
          "metadata": {
            "tags": []
          },
          "execution_count": 12
        }
      ]
    },
    {
      "cell_type": "code",
      "metadata": {
        "id": "rM-_Ri_5Ecdc",
        "colab_type": "code",
        "colab": {
          "base_uri": "https://localhost:8080/",
          "height": 35
        },
        "outputId": "4fdfcf15-43f1-4c3b-cc54-f53ff094012b"
      },
      "source": [
        "# check the shape of data\n",
        "data.data.shape\n",
        "# now we have total 569 samples and 30 Features"
      ],
      "execution_count": 16,
      "outputs": [
        {
          "output_type": "execute_result",
          "data": {
            "text/plain": [
              "(569, 30)"
            ]
          },
          "metadata": {
            "tags": []
          },
          "execution_count": 16
        }
      ]
    },
    {
      "cell_type": "code",
      "metadata": {
        "id": "DNhHW6ReEoYo",
        "colab_type": "code",
        "colab": {
          "base_uri": "https://localhost:8080/",
          "height": 468
        },
        "outputId": "f9ae1099-7162-45b7-888c-08784910c86a"
      },
      "source": [
        "# returns 1d array containing 0 and 1\n",
        "data.target"
      ],
      "execution_count": 17,
      "outputs": [
        {
          "output_type": "execute_result",
          "data": {
            "text/plain": [
              "array([0, 0, 0, 0, 0, 0, 0, 0, 0, 0, 0, 0, 0, 0, 0, 0, 0, 0, 0, 1, 1, 1,\n",
              "       0, 0, 0, 0, 0, 0, 0, 0, 0, 0, 0, 0, 0, 0, 0, 1, 0, 0, 0, 0, 0, 0,\n",
              "       0, 0, 1, 0, 1, 1, 1, 1, 1, 0, 0, 1, 0, 0, 1, 1, 1, 1, 0, 1, 0, 0,\n",
              "       1, 1, 1, 1, 0, 1, 0, 0, 1, 0, 1, 0, 0, 1, 1, 1, 0, 0, 1, 0, 0, 0,\n",
              "       1, 1, 1, 0, 1, 1, 0, 0, 1, 1, 1, 0, 0, 1, 1, 1, 1, 0, 1, 1, 0, 1,\n",
              "       1, 1, 1, 1, 1, 1, 1, 0, 0, 0, 1, 0, 0, 1, 1, 1, 0, 0, 1, 0, 1, 0,\n",
              "       0, 1, 0, 0, 1, 1, 0, 1, 1, 0, 1, 1, 1, 1, 0, 1, 1, 1, 1, 1, 1, 1,\n",
              "       1, 1, 0, 1, 1, 1, 1, 0, 0, 1, 0, 1, 1, 0, 0, 1, 1, 0, 0, 1, 1, 1,\n",
              "       1, 0, 1, 1, 0, 0, 0, 1, 0, 1, 0, 1, 1, 1, 0, 1, 1, 0, 0, 1, 0, 0,\n",
              "       0, 0, 1, 0, 0, 0, 1, 0, 1, 0, 1, 1, 0, 1, 0, 0, 0, 0, 1, 1, 0, 0,\n",
              "       1, 1, 1, 0, 1, 1, 1, 1, 1, 0, 0, 1, 1, 0, 1, 1, 0, 0, 1, 0, 1, 1,\n",
              "       1, 1, 0, 1, 1, 1, 1, 1, 0, 1, 0, 0, 0, 0, 0, 0, 0, 0, 0, 0, 0, 0,\n",
              "       0, 0, 1, 1, 1, 1, 1, 1, 0, 1, 0, 1, 1, 0, 1, 1, 0, 1, 0, 0, 1, 1,\n",
              "       1, 1, 1, 1, 1, 1, 1, 1, 1, 1, 1, 0, 1, 1, 0, 1, 0, 1, 1, 1, 1, 1,\n",
              "       1, 1, 1, 1, 1, 1, 1, 1, 1, 0, 1, 1, 1, 0, 1, 0, 1, 1, 1, 1, 0, 0,\n",
              "       0, 1, 1, 1, 1, 0, 1, 0, 1, 0, 1, 1, 1, 0, 1, 1, 1, 1, 1, 1, 1, 0,\n",
              "       0, 0, 1, 1, 1, 1, 1, 1, 1, 1, 1, 1, 1, 0, 0, 1, 0, 0, 0, 1, 0, 0,\n",
              "       1, 1, 1, 1, 1, 0, 1, 1, 1, 1, 1, 0, 1, 1, 1, 0, 1, 1, 0, 0, 1, 1,\n",
              "       1, 1, 1, 1, 0, 1, 1, 1, 1, 1, 1, 1, 0, 1, 1, 1, 1, 1, 0, 1, 1, 0,\n",
              "       1, 1, 1, 1, 1, 1, 1, 1, 1, 1, 1, 1, 0, 1, 0, 0, 1, 0, 1, 1, 1, 1,\n",
              "       1, 0, 1, 1, 0, 1, 0, 1, 1, 0, 1, 0, 1, 1, 1, 1, 1, 1, 1, 1, 0, 0,\n",
              "       1, 1, 1, 1, 1, 1, 0, 1, 1, 1, 1, 1, 1, 1, 1, 1, 1, 0, 1, 1, 1, 1,\n",
              "       1, 1, 1, 0, 1, 0, 1, 1, 0, 1, 1, 1, 1, 1, 0, 0, 1, 0, 1, 0, 1, 1,\n",
              "       1, 1, 1, 0, 1, 1, 0, 1, 0, 1, 0, 0, 1, 1, 1, 0, 1, 1, 1, 1, 1, 1,\n",
              "       1, 1, 1, 1, 1, 0, 1, 0, 0, 1, 1, 1, 1, 1, 1, 1, 1, 1, 1, 1, 1, 1,\n",
              "       1, 1, 1, 1, 1, 1, 1, 1, 1, 1, 1, 1, 0, 0, 0, 0, 0, 0, 1])"
            ]
          },
          "metadata": {
            "tags": []
          },
          "execution_count": 17
        }
      ]
    },
    {
      "cell_type": "code",
      "metadata": {
        "id": "fPjnHZb0FHKj",
        "colab_type": "code",
        "colab": {
          "base_uri": "https://localhost:8080/",
          "height": 35
        },
        "outputId": "c27e75c9-a91d-43d1-f311-5d815b38081e"
      },
      "source": [
        "# from the below code we can say that 1- Malignant Cancer and 0 for Benign\n",
        "data.target_names"
      ],
      "execution_count": 19,
      "outputs": [
        {
          "output_type": "execute_result",
          "data": {
            "text/plain": [
              "array(['malignant', 'benign'], dtype='<U9')"
            ]
          },
          "metadata": {
            "tags": []
          },
          "execution_count": 19
        }
      ]
    },
    {
      "cell_type": "code",
      "metadata": {
        "id": "26spBH9tFRic",
        "colab_type": "code",
        "colab": {
          "base_uri": "https://localhost:8080/",
          "height": 191
        },
        "outputId": "033f1c31-e57a-4bb6-9a0a-2112e8607349"
      },
      "source": [
        "data.feature_names"
      ],
      "execution_count": 20,
      "outputs": [
        {
          "output_type": "execute_result",
          "data": {
            "text/plain": [
              "array(['mean radius', 'mean texture', 'mean perimeter', 'mean area',\n",
              "       'mean smoothness', 'mean compactness', 'mean concavity',\n",
              "       'mean concave points', 'mean symmetry', 'mean fractal dimension',\n",
              "       'radius error', 'texture error', 'perimeter error', 'area error',\n",
              "       'smoothness error', 'compactness error', 'concavity error',\n",
              "       'concave points error', 'symmetry error',\n",
              "       'fractal dimension error', 'worst radius', 'worst texture',\n",
              "       'worst perimeter', 'worst area', 'worst smoothness',\n",
              "       'worst compactness', 'worst concavity', 'worst concave points',\n",
              "       'worst symmetry', 'worst fractal dimension'], dtype='<U23')"
            ]
          },
          "metadata": {
            "tags": []
          },
          "execution_count": 20
        }
      ]
    },
    {
      "cell_type": "code",
      "metadata": {
        "id": "upU8zzV4Ffi3",
        "colab_type": "code",
        "colab": {
          "base_uri": "https://localhost:8080/",
          "height": 52
        },
        "outputId": "75d6e68d-6bb0-41cc-cb5c-46bf3bc2182a"
      },
      "source": [
        "from sklearn.model_selection import train_test_split\n",
        "X_train,X_test,y_train,y_test=train_test_split(data.data,data.target,test_size=0.33)\n",
        "N,D=X_train.shape\n",
        "\n",
        "print('No. of training sasmples',N)\n",
        "print('Dimensions of Training data',D)"
      ],
      "execution_count": 31,
      "outputs": [
        {
          "output_type": "stream",
          "text": [
            "No. of training sasmples 381\n",
            "Dimensions of Training data 30\n"
          ],
          "name": "stdout"
        }
      ]
    },
    {
      "cell_type": "code",
      "metadata": {
        "id": "DBIsZf4HIbAn",
        "colab_type": "code",
        "colab": {
          "base_uri": "https://localhost:8080/",
          "height": 295
        },
        "outputId": "b850ee95-544c-4a09-9e7c-837963a9a7a7"
      },
      "source": [
        "print(X_train[0:3])\n",
        "print(y_train[0:3])"
      ],
      "execution_count": 28,
      "outputs": [
        {
          "output_type": "stream",
          "text": [
            "[[1.049e+01 1.861e+01 6.686e+01 3.343e+02 1.068e-01 6.678e-02 2.297e-02\n",
            "  1.780e-02 1.482e-01 6.600e-02 1.485e-01 1.563e+00 1.035e+00 1.008e+01\n",
            "  8.875e-03 9.362e-03 1.808e-02 9.199e-03 1.791e-02 3.317e-03 1.106e+01\n",
            "  2.454e+01 7.076e+01 3.754e+02 1.413e-01 1.044e-01 8.423e-02 6.528e-02\n",
            "  2.213e-01 7.842e-02]\n",
            " [2.110e+01 2.052e+01 1.381e+02 1.384e+03 9.684e-02 1.175e-01 1.572e-01\n",
            "  1.155e-01 1.554e-01 5.661e-02 6.643e-01 1.361e+00 4.542e+00 8.189e+01\n",
            "  5.467e-03 2.075e-02 3.185e-02 1.466e-02 1.029e-02 2.205e-03 2.568e+01\n",
            "  3.207e+01 1.682e+02 2.022e+03 1.368e-01 3.101e-01 4.399e-01 2.280e-01\n",
            "  2.268e-01 7.425e-02]\n",
            " [1.270e+01 1.217e+01 8.088e+01 4.950e+02 8.785e-02 5.794e-02 2.360e-02\n",
            "  2.402e-02 1.583e-01 6.275e-02 2.253e-01 6.457e-01 1.527e+00 1.737e+01\n",
            "  6.131e-03 1.263e-02 9.075e-03 8.231e-03 1.713e-02 4.414e-03 1.365e+01\n",
            "  1.692e+01 8.812e+01 5.669e+02 1.314e-01 1.607e-01 9.385e-02 8.224e-02\n",
            "  2.775e-01 9.464e-02]]\n",
            "[1 0 1]\n"
          ],
          "name": "stdout"
        }
      ]
    },
    {
      "cell_type": "code",
      "metadata": {
        "id": "UC51x2rCI0_m",
        "colab_type": "code",
        "colab": {}
      },
      "source": [
        "# Scalling of the data\n",
        "# The op is the linear combination of Input..You don't want input has very long range say 1M\n",
        "#and another input has very small range 0.001..if this happens... then weight will be very sesnitive..and \n",
        "# not sensitive input has very small range\n",
        "# This is handled by normalization\n",
        "#(Substracting the mean from input feature and Dividing by STD Deviation) \n",
        "from sklearn.preprocessing import StandardScaler\n",
        "scaler=StandardScaler()\n",
        "X_train=scaler.fit_transform(X_train)\n",
        "X_test=scaler.transform(X_test)"
      ],
      "execution_count": 0,
      "outputs": []
    },
    {
      "cell_type": "markdown",
      "metadata": {
        "id": "45JA36nCMZmW",
        "colab_type": "text"
      },
      "source": [
        "# Building the Tensorflow Model"
      ]
    },
    {
      "cell_type": "code",
      "metadata": {
        "id": "zS-xGL_8LSDD",
        "colab_type": "code",
        "colab": {
          "base_uri": "https://localhost:8080/",
          "height": 1000
        },
        "outputId": "08f13b64-ae03-4912-c2bc-7db6c3505a2b"
      },
      "source": [
        "model=tf.keras.models.Sequential(\n",
        "    [tf.keras.layers.Input(shape=(D,)),\n",
        "     tf.keras.layers.Dense(1,activation=\"sigmoid\"\n",
        "    )]\n",
        ")\n",
        "\n",
        "'''\n",
        "# Another way to write a model  is\n",
        "\n",
        "model=tf.keras.models.Sequential()\n",
        "model.add(tf.keras.layers.Dense(1,input_shape=(D,),activation=\"sigmoid\"))\n",
        "\n",
        "'''\n",
        "\n",
        "# Compile the model\n",
        "model.compile(optimizer='adam', loss='binary_crossentropy', metrics=['accuracy'])\n",
        "\n",
        "\n",
        "# Train the model\n",
        "\n",
        "r=model.fit(X_train,y_train, validation_data=(X_test,y_test),epochs=120)"
      ],
      "execution_count": 51,
      "outputs": [
        {
          "output_type": "stream",
          "text": [
            "Train on 381 samples, validate on 188 samples\n",
            "Epoch 1/120\n",
            "381/381 [==============================] - 0s 1ms/sample - loss: 1.0935 - accuracy: 0.3176 - val_loss: 1.0860 - val_accuracy: 0.3191\n",
            "Epoch 2/120\n",
            "381/381 [==============================] - 0s 108us/sample - loss: 0.9881 - accuracy: 0.3648 - val_loss: 0.9835 - val_accuracy: 0.3511\n",
            "Epoch 3/120\n",
            "381/381 [==============================] - 0s 100us/sample - loss: 0.8914 - accuracy: 0.4304 - val_loss: 0.8913 - val_accuracy: 0.4096\n",
            "Epoch 4/120\n",
            "381/381 [==============================] - 0s 122us/sample - loss: 0.8082 - accuracy: 0.4987 - val_loss: 0.8072 - val_accuracy: 0.4734\n",
            "Epoch 5/120\n",
            "381/381 [==============================] - 0s 103us/sample - loss: 0.7301 - accuracy: 0.5617 - val_loss: 0.7367 - val_accuracy: 0.5426\n",
            "Epoch 6/120\n",
            "381/381 [==============================] - 0s 105us/sample - loss: 0.6670 - accuracy: 0.6168 - val_loss: 0.6725 - val_accuracy: 0.6170\n",
            "Epoch 7/120\n",
            "381/381 [==============================] - 0s 100us/sample - loss: 0.6097 - accuracy: 0.6562 - val_loss: 0.6178 - val_accuracy: 0.6755\n",
            "Epoch 8/120\n",
            "381/381 [==============================] - 0s 101us/sample - loss: 0.5621 - accuracy: 0.7060 - val_loss: 0.5690 - val_accuracy: 0.7234\n",
            "Epoch 9/120\n",
            "381/381 [==============================] - 0s 121us/sample - loss: 0.5183 - accuracy: 0.7612 - val_loss: 0.5284 - val_accuracy: 0.7553\n",
            "Epoch 10/120\n",
            "381/381 [==============================] - 0s 119us/sample - loss: 0.4832 - accuracy: 0.7953 - val_loss: 0.4916 - val_accuracy: 0.7766\n",
            "Epoch 11/120\n",
            "381/381 [==============================] - 0s 107us/sample - loss: 0.4510 - accuracy: 0.8215 - val_loss: 0.4595 - val_accuracy: 0.8032\n",
            "Epoch 12/120\n",
            "381/381 [==============================] - 0s 106us/sample - loss: 0.4225 - accuracy: 0.8530 - val_loss: 0.4320 - val_accuracy: 0.8245\n",
            "Epoch 13/120\n",
            "381/381 [==============================] - 0s 102us/sample - loss: 0.3986 - accuracy: 0.8845 - val_loss: 0.4071 - val_accuracy: 0.8404\n",
            "Epoch 14/120\n",
            "381/381 [==============================] - 0s 102us/sample - loss: 0.3768 - accuracy: 0.8950 - val_loss: 0.3850 - val_accuracy: 0.8457\n",
            "Epoch 15/120\n",
            "381/381 [==============================] - 0s 105us/sample - loss: 0.3578 - accuracy: 0.9003 - val_loss: 0.3652 - val_accuracy: 0.8723\n",
            "Epoch 16/120\n",
            "381/381 [==============================] - 0s 110us/sample - loss: 0.3405 - accuracy: 0.9108 - val_loss: 0.3478 - val_accuracy: 0.8883\n",
            "Epoch 17/120\n",
            "381/381 [==============================] - 0s 106us/sample - loss: 0.3248 - accuracy: 0.9186 - val_loss: 0.3325 - val_accuracy: 0.8989\n",
            "Epoch 18/120\n",
            "381/381 [==============================] - 0s 109us/sample - loss: 0.3111 - accuracy: 0.9213 - val_loss: 0.3186 - val_accuracy: 0.9043\n",
            "Epoch 19/120\n",
            "381/381 [==============================] - 0s 114us/sample - loss: 0.2985 - accuracy: 0.9291 - val_loss: 0.3057 - val_accuracy: 0.9149\n",
            "Epoch 20/120\n",
            "381/381 [==============================] - 0s 105us/sample - loss: 0.2870 - accuracy: 0.9291 - val_loss: 0.2942 - val_accuracy: 0.9362\n",
            "Epoch 21/120\n",
            "381/381 [==============================] - 0s 108us/sample - loss: 0.2767 - accuracy: 0.9291 - val_loss: 0.2837 - val_accuracy: 0.9362\n",
            "Epoch 22/120\n",
            "381/381 [==============================] - 0s 102us/sample - loss: 0.2673 - accuracy: 0.9291 - val_loss: 0.2739 - val_accuracy: 0.9362\n",
            "Epoch 23/120\n",
            "381/381 [==============================] - 0s 113us/sample - loss: 0.2586 - accuracy: 0.9344 - val_loss: 0.2650 - val_accuracy: 0.9415\n",
            "Epoch 24/120\n",
            "381/381 [==============================] - 0s 108us/sample - loss: 0.2503 - accuracy: 0.9396 - val_loss: 0.2571 - val_accuracy: 0.9468\n",
            "Epoch 25/120\n",
            "381/381 [==============================] - 0s 112us/sample - loss: 0.2430 - accuracy: 0.9396 - val_loss: 0.2498 - val_accuracy: 0.9468\n",
            "Epoch 26/120\n",
            "381/381 [==============================] - 0s 100us/sample - loss: 0.2361 - accuracy: 0.9423 - val_loss: 0.2429 - val_accuracy: 0.9468\n",
            "Epoch 27/120\n",
            "381/381 [==============================] - 0s 103us/sample - loss: 0.2296 - accuracy: 0.9449 - val_loss: 0.2366 - val_accuracy: 0.9468\n",
            "Epoch 28/120\n",
            "381/381 [==============================] - 0s 109us/sample - loss: 0.2238 - accuracy: 0.9449 - val_loss: 0.2307 - val_accuracy: 0.9468\n",
            "Epoch 29/120\n",
            "381/381 [==============================] - 0s 104us/sample - loss: 0.2181 - accuracy: 0.9475 - val_loss: 0.2252 - val_accuracy: 0.9468\n",
            "Epoch 30/120\n",
            "381/381 [==============================] - 0s 116us/sample - loss: 0.2129 - accuracy: 0.9475 - val_loss: 0.2198 - val_accuracy: 0.9468\n",
            "Epoch 31/120\n",
            "381/381 [==============================] - 0s 115us/sample - loss: 0.2080 - accuracy: 0.9475 - val_loss: 0.2150 - val_accuracy: 0.9468\n",
            "Epoch 32/120\n",
            "381/381 [==============================] - 0s 108us/sample - loss: 0.2035 - accuracy: 0.9475 - val_loss: 0.2104 - val_accuracy: 0.9468\n",
            "Epoch 33/120\n",
            "381/381 [==============================] - 0s 108us/sample - loss: 0.1991 - accuracy: 0.9501 - val_loss: 0.2063 - val_accuracy: 0.9468\n",
            "Epoch 34/120\n",
            "381/381 [==============================] - 0s 110us/sample - loss: 0.1950 - accuracy: 0.9501 - val_loss: 0.2023 - val_accuracy: 0.9468\n",
            "Epoch 35/120\n",
            "381/381 [==============================] - 0s 120us/sample - loss: 0.1912 - accuracy: 0.9501 - val_loss: 0.1987 - val_accuracy: 0.9468\n",
            "Epoch 36/120\n",
            "381/381 [==============================] - 0s 118us/sample - loss: 0.1874 - accuracy: 0.9528 - val_loss: 0.1952 - val_accuracy: 0.9468\n",
            "Epoch 37/120\n",
            "381/381 [==============================] - 0s 122us/sample - loss: 0.1841 - accuracy: 0.9528 - val_loss: 0.1916 - val_accuracy: 0.9521\n",
            "Epoch 38/120\n",
            "381/381 [==============================] - 0s 115us/sample - loss: 0.1807 - accuracy: 0.9554 - val_loss: 0.1888 - val_accuracy: 0.9574\n",
            "Epoch 39/120\n",
            "381/381 [==============================] - 0s 137us/sample - loss: 0.1776 - accuracy: 0.9554 - val_loss: 0.1858 - val_accuracy: 0.9574\n",
            "Epoch 40/120\n",
            "381/381 [==============================] - 0s 115us/sample - loss: 0.1746 - accuracy: 0.9580 - val_loss: 0.1828 - val_accuracy: 0.9574\n",
            "Epoch 41/120\n",
            "381/381 [==============================] - 0s 113us/sample - loss: 0.1718 - accuracy: 0.9580 - val_loss: 0.1800 - val_accuracy: 0.9574\n",
            "Epoch 42/120\n",
            "381/381 [==============================] - 0s 109us/sample - loss: 0.1691 - accuracy: 0.9606 - val_loss: 0.1776 - val_accuracy: 0.9574\n",
            "Epoch 43/120\n",
            "381/381 [==============================] - 0s 115us/sample - loss: 0.1665 - accuracy: 0.9606 - val_loss: 0.1751 - val_accuracy: 0.9574\n",
            "Epoch 44/120\n",
            "381/381 [==============================] - 0s 99us/sample - loss: 0.1640 - accuracy: 0.9606 - val_loss: 0.1727 - val_accuracy: 0.9574\n",
            "Epoch 45/120\n",
            "381/381 [==============================] - 0s 107us/sample - loss: 0.1617 - accuracy: 0.9606 - val_loss: 0.1705 - val_accuracy: 0.9574\n",
            "Epoch 46/120\n",
            "381/381 [==============================] - 0s 105us/sample - loss: 0.1593 - accuracy: 0.9633 - val_loss: 0.1684 - val_accuracy: 0.9574\n",
            "Epoch 47/120\n",
            "381/381 [==============================] - 0s 114us/sample - loss: 0.1572 - accuracy: 0.9633 - val_loss: 0.1663 - val_accuracy: 0.9574\n",
            "Epoch 48/120\n",
            "381/381 [==============================] - 0s 112us/sample - loss: 0.1551 - accuracy: 0.9633 - val_loss: 0.1644 - val_accuracy: 0.9521\n",
            "Epoch 49/120\n",
            "381/381 [==============================] - 0s 109us/sample - loss: 0.1531 - accuracy: 0.9659 - val_loss: 0.1624 - val_accuracy: 0.9521\n",
            "Epoch 50/120\n",
            "381/381 [==============================] - 0s 110us/sample - loss: 0.1513 - accuracy: 0.9659 - val_loss: 0.1606 - val_accuracy: 0.9521\n",
            "Epoch 51/120\n",
            "381/381 [==============================] - 0s 117us/sample - loss: 0.1493 - accuracy: 0.9659 - val_loss: 0.1589 - val_accuracy: 0.9521\n",
            "Epoch 52/120\n",
            "381/381 [==============================] - 0s 111us/sample - loss: 0.1476 - accuracy: 0.9685 - val_loss: 0.1572 - val_accuracy: 0.9521\n",
            "Epoch 53/120\n",
            "381/381 [==============================] - 0s 115us/sample - loss: 0.1459 - accuracy: 0.9711 - val_loss: 0.1557 - val_accuracy: 0.9521\n",
            "Epoch 54/120\n",
            "381/381 [==============================] - 0s 146us/sample - loss: 0.1442 - accuracy: 0.9711 - val_loss: 0.1541 - val_accuracy: 0.9521\n",
            "Epoch 55/120\n",
            "381/381 [==============================] - 0s 121us/sample - loss: 0.1426 - accuracy: 0.9738 - val_loss: 0.1526 - val_accuracy: 0.9521\n",
            "Epoch 56/120\n",
            "381/381 [==============================] - 0s 118us/sample - loss: 0.1411 - accuracy: 0.9738 - val_loss: 0.1513 - val_accuracy: 0.9521\n",
            "Epoch 57/120\n",
            "381/381 [==============================] - 0s 115us/sample - loss: 0.1396 - accuracy: 0.9738 - val_loss: 0.1498 - val_accuracy: 0.9521\n",
            "Epoch 58/120\n",
            "381/381 [==============================] - 0s 118us/sample - loss: 0.1382 - accuracy: 0.9738 - val_loss: 0.1485 - val_accuracy: 0.9521\n",
            "Epoch 59/120\n",
            "381/381 [==============================] - 0s 115us/sample - loss: 0.1367 - accuracy: 0.9738 - val_loss: 0.1471 - val_accuracy: 0.9521\n",
            "Epoch 60/120\n",
            "381/381 [==============================] - 0s 124us/sample - loss: 0.1354 - accuracy: 0.9738 - val_loss: 0.1458 - val_accuracy: 0.9521\n",
            "Epoch 61/120\n",
            "381/381 [==============================] - 0s 109us/sample - loss: 0.1341 - accuracy: 0.9738 - val_loss: 0.1446 - val_accuracy: 0.9521\n",
            "Epoch 62/120\n",
            "381/381 [==============================] - 0s 119us/sample - loss: 0.1328 - accuracy: 0.9738 - val_loss: 0.1435 - val_accuracy: 0.9521\n",
            "Epoch 63/120\n",
            "381/381 [==============================] - 0s 134us/sample - loss: 0.1316 - accuracy: 0.9738 - val_loss: 0.1424 - val_accuracy: 0.9574\n",
            "Epoch 64/120\n",
            "381/381 [==============================] - 0s 111us/sample - loss: 0.1304 - accuracy: 0.9738 - val_loss: 0.1412 - val_accuracy: 0.9574\n",
            "Epoch 65/120\n",
            "381/381 [==============================] - 0s 110us/sample - loss: 0.1292 - accuracy: 0.9738 - val_loss: 0.1402 - val_accuracy: 0.9574\n",
            "Epoch 66/120\n",
            "381/381 [==============================] - 0s 104us/sample - loss: 0.1281 - accuracy: 0.9738 - val_loss: 0.1392 - val_accuracy: 0.9574\n",
            "Epoch 67/120\n",
            "381/381 [==============================] - 0s 110us/sample - loss: 0.1270 - accuracy: 0.9738 - val_loss: 0.1383 - val_accuracy: 0.9574\n",
            "Epoch 68/120\n",
            "381/381 [==============================] - 0s 122us/sample - loss: 0.1260 - accuracy: 0.9738 - val_loss: 0.1371 - val_accuracy: 0.9628\n",
            "Epoch 69/120\n",
            "381/381 [==============================] - 0s 115us/sample - loss: 0.1249 - accuracy: 0.9738 - val_loss: 0.1361 - val_accuracy: 0.9628\n",
            "Epoch 70/120\n",
            "381/381 [==============================] - 0s 112us/sample - loss: 0.1240 - accuracy: 0.9764 - val_loss: 0.1354 - val_accuracy: 0.9681\n",
            "Epoch 71/120\n",
            "381/381 [==============================] - 0s 115us/sample - loss: 0.1229 - accuracy: 0.9764 - val_loss: 0.1345 - val_accuracy: 0.9681\n",
            "Epoch 72/120\n",
            "381/381 [==============================] - 0s 115us/sample - loss: 0.1220 - accuracy: 0.9790 - val_loss: 0.1335 - val_accuracy: 0.9681\n",
            "Epoch 73/120\n",
            "381/381 [==============================] - 0s 114us/sample - loss: 0.1210 - accuracy: 0.9790 - val_loss: 0.1327 - val_accuracy: 0.9681\n",
            "Epoch 74/120\n",
            "381/381 [==============================] - 0s 115us/sample - loss: 0.1202 - accuracy: 0.9790 - val_loss: 0.1318 - val_accuracy: 0.9681\n",
            "Epoch 75/120\n",
            "381/381 [==============================] - 0s 114us/sample - loss: 0.1193 - accuracy: 0.9816 - val_loss: 0.1311 - val_accuracy: 0.9681\n",
            "Epoch 76/120\n",
            "381/381 [==============================] - 0s 112us/sample - loss: 0.1184 - accuracy: 0.9816 - val_loss: 0.1303 - val_accuracy: 0.9681\n",
            "Epoch 77/120\n",
            "381/381 [==============================] - 0s 108us/sample - loss: 0.1176 - accuracy: 0.9816 - val_loss: 0.1294 - val_accuracy: 0.9681\n",
            "Epoch 78/120\n",
            "381/381 [==============================] - 0s 114us/sample - loss: 0.1167 - accuracy: 0.9816 - val_loss: 0.1288 - val_accuracy: 0.9681\n",
            "Epoch 79/120\n",
            "381/381 [==============================] - 0s 113us/sample - loss: 0.1160 - accuracy: 0.9816 - val_loss: 0.1282 - val_accuracy: 0.9681\n",
            "Epoch 80/120\n",
            "381/381 [==============================] - 0s 107us/sample - loss: 0.1152 - accuracy: 0.9816 - val_loss: 0.1274 - val_accuracy: 0.9681\n",
            "Epoch 81/120\n",
            "381/381 [==============================] - 0s 120us/sample - loss: 0.1144 - accuracy: 0.9816 - val_loss: 0.1266 - val_accuracy: 0.9681\n",
            "Epoch 82/120\n",
            "381/381 [==============================] - 0s 125us/sample - loss: 0.1137 - accuracy: 0.9816 - val_loss: 0.1260 - val_accuracy: 0.9681\n",
            "Epoch 83/120\n",
            "381/381 [==============================] - 0s 122us/sample - loss: 0.1130 - accuracy: 0.9816 - val_loss: 0.1252 - val_accuracy: 0.9681\n",
            "Epoch 84/120\n",
            "381/381 [==============================] - 0s 107us/sample - loss: 0.1122 - accuracy: 0.9843 - val_loss: 0.1245 - val_accuracy: 0.9681\n",
            "Epoch 85/120\n",
            "381/381 [==============================] - 0s 106us/sample - loss: 0.1115 - accuracy: 0.9843 - val_loss: 0.1240 - val_accuracy: 0.9681\n",
            "Epoch 86/120\n",
            "381/381 [==============================] - 0s 109us/sample - loss: 0.1109 - accuracy: 0.9843 - val_loss: 0.1234 - val_accuracy: 0.9681\n",
            "Epoch 87/120\n",
            "381/381 [==============================] - 0s 112us/sample - loss: 0.1102 - accuracy: 0.9843 - val_loss: 0.1227 - val_accuracy: 0.9681\n",
            "Epoch 88/120\n",
            "381/381 [==============================] - 0s 102us/sample - loss: 0.1095 - accuracy: 0.9843 - val_loss: 0.1221 - val_accuracy: 0.9681\n",
            "Epoch 89/120\n",
            "381/381 [==============================] - 0s 107us/sample - loss: 0.1089 - accuracy: 0.9843 - val_loss: 0.1216 - val_accuracy: 0.9681\n",
            "Epoch 90/120\n",
            "381/381 [==============================] - 0s 109us/sample - loss: 0.1083 - accuracy: 0.9843 - val_loss: 0.1210 - val_accuracy: 0.9681\n",
            "Epoch 91/120\n",
            "381/381 [==============================] - 0s 117us/sample - loss: 0.1077 - accuracy: 0.9843 - val_loss: 0.1206 - val_accuracy: 0.9681\n",
            "Epoch 92/120\n",
            "381/381 [==============================] - 0s 122us/sample - loss: 0.1071 - accuracy: 0.9843 - val_loss: 0.1199 - val_accuracy: 0.9681\n",
            "Epoch 93/120\n",
            "381/381 [==============================] - 0s 111us/sample - loss: 0.1065 - accuracy: 0.9843 - val_loss: 0.1195 - val_accuracy: 0.9681\n",
            "Epoch 94/120\n",
            "381/381 [==============================] - 0s 118us/sample - loss: 0.1059 - accuracy: 0.9843 - val_loss: 0.1190 - val_accuracy: 0.9681\n",
            "Epoch 95/120\n",
            "381/381 [==============================] - 0s 112us/sample - loss: 0.1054 - accuracy: 0.9843 - val_loss: 0.1183 - val_accuracy: 0.9681\n",
            "Epoch 96/120\n",
            "381/381 [==============================] - 0s 119us/sample - loss: 0.1048 - accuracy: 0.9843 - val_loss: 0.1178 - val_accuracy: 0.9681\n",
            "Epoch 97/120\n",
            "381/381 [==============================] - 0s 149us/sample - loss: 0.1042 - accuracy: 0.9843 - val_loss: 0.1175 - val_accuracy: 0.9681\n",
            "Epoch 98/120\n",
            "381/381 [==============================] - 0s 130us/sample - loss: 0.1037 - accuracy: 0.9843 - val_loss: 0.1169 - val_accuracy: 0.9681\n",
            "Epoch 99/120\n",
            "381/381 [==============================] - 0s 111us/sample - loss: 0.1032 - accuracy: 0.9843 - val_loss: 0.1165 - val_accuracy: 0.9681\n",
            "Epoch 100/120\n",
            "381/381 [==============================] - 0s 134us/sample - loss: 0.1027 - accuracy: 0.9843 - val_loss: 0.1159 - val_accuracy: 0.9681\n",
            "Epoch 101/120\n",
            "381/381 [==============================] - 0s 138us/sample - loss: 0.1022 - accuracy: 0.9843 - val_loss: 0.1156 - val_accuracy: 0.9681\n",
            "Epoch 102/120\n",
            "381/381 [==============================] - 0s 135us/sample - loss: 0.1017 - accuracy: 0.9843 - val_loss: 0.1152 - val_accuracy: 0.9681\n",
            "Epoch 103/120\n",
            "381/381 [==============================] - 0s 123us/sample - loss: 0.1012 - accuracy: 0.9843 - val_loss: 0.1147 - val_accuracy: 0.9681\n",
            "Epoch 104/120\n",
            "381/381 [==============================] - 0s 113us/sample - loss: 0.1007 - accuracy: 0.9843 - val_loss: 0.1142 - val_accuracy: 0.9681\n",
            "Epoch 105/120\n",
            "381/381 [==============================] - 0s 101us/sample - loss: 0.1002 - accuracy: 0.9843 - val_loss: 0.1138 - val_accuracy: 0.9681\n",
            "Epoch 106/120\n",
            "381/381 [==============================] - 0s 116us/sample - loss: 0.0998 - accuracy: 0.9843 - val_loss: 0.1134 - val_accuracy: 0.9681\n",
            "Epoch 107/120\n",
            "381/381 [==============================] - 0s 123us/sample - loss: 0.0993 - accuracy: 0.9843 - val_loss: 0.1129 - val_accuracy: 0.9681\n",
            "Epoch 108/120\n",
            "381/381 [==============================] - 0s 112us/sample - loss: 0.0989 - accuracy: 0.9843 - val_loss: 0.1127 - val_accuracy: 0.9734\n",
            "Epoch 109/120\n",
            "381/381 [==============================] - 0s 114us/sample - loss: 0.0984 - accuracy: 0.9843 - val_loss: 0.1123 - val_accuracy: 0.9734\n",
            "Epoch 110/120\n",
            "381/381 [==============================] - 0s 127us/sample - loss: 0.0980 - accuracy: 0.9843 - val_loss: 0.1118 - val_accuracy: 0.9734\n",
            "Epoch 111/120\n",
            "381/381 [==============================] - 0s 122us/sample - loss: 0.0976 - accuracy: 0.9843 - val_loss: 0.1115 - val_accuracy: 0.9734\n",
            "Epoch 112/120\n",
            "381/381 [==============================] - 0s 122us/sample - loss: 0.0972 - accuracy: 0.9843 - val_loss: 0.1110 - val_accuracy: 0.9734\n",
            "Epoch 113/120\n",
            "381/381 [==============================] - 0s 124us/sample - loss: 0.0968 - accuracy: 0.9843 - val_loss: 0.1108 - val_accuracy: 0.9734\n",
            "Epoch 114/120\n",
            "381/381 [==============================] - 0s 126us/sample - loss: 0.0964 - accuracy: 0.9843 - val_loss: 0.1104 - val_accuracy: 0.9734\n",
            "Epoch 115/120\n",
            "381/381 [==============================] - 0s 127us/sample - loss: 0.0960 - accuracy: 0.9843 - val_loss: 0.1100 - val_accuracy: 0.9734\n",
            "Epoch 116/120\n",
            "381/381 [==============================] - 0s 119us/sample - loss: 0.0956 - accuracy: 0.9843 - val_loss: 0.1098 - val_accuracy: 0.9734\n",
            "Epoch 117/120\n",
            "381/381 [==============================] - 0s 122us/sample - loss: 0.0952 - accuracy: 0.9843 - val_loss: 0.1093 - val_accuracy: 0.9734\n",
            "Epoch 118/120\n",
            "381/381 [==============================] - 0s 129us/sample - loss: 0.0948 - accuracy: 0.9843 - val_loss: 0.1090 - val_accuracy: 0.9734\n",
            "Epoch 119/120\n",
            "381/381 [==============================] - 0s 132us/sample - loss: 0.0944 - accuracy: 0.9843 - val_loss: 0.1085 - val_accuracy: 0.9734\n",
            "Epoch 120/120\n",
            "381/381 [==============================] - 0s 137us/sample - loss: 0.0941 - accuracy: 0.9843 - val_loss: 0.1082 - val_accuracy: 0.9734\n"
          ],
          "name": "stdout"
        }
      ]
    },
    {
      "cell_type": "code",
      "metadata": {
        "id": "WIZAhfmANVzJ",
        "colab_type": "code",
        "colab": {
          "base_uri": "https://localhost:8080/",
          "height": 107
        },
        "outputId": "6ef15c0c-7746-47c6-be52-9bb034e3bdb8"
      },
      "source": [
        "# Evaluating the model\n",
        "print('Train Score',model.evaluate(X_train,y_train))\n",
        "print('Test Score', model.evaluate(X_test,y_test))"
      ],
      "execution_count": 52,
      "outputs": [
        {
          "output_type": "stream",
          "text": [
            "381/1 [======================================================================================================================================================================================================================================================================================================================================================================================================================================================================================================================================================================================================================================================================================================================================================================================================================================================================================================================================================================================================================================================================================================================================================================================================================================================================================================================================================================================================================================================================================================================================================================================================================================================================================================================================================================================================================================================================================================================================================================================================================================================================================================================================================================================================================================================================================================================================================================================================================================================================================================================================================================================================================================================================================================================================================================================================================================================================================================================================================================================================================================================================================================================================================================================================================================================================================================================================================================================================================================================================================================================================================================================================================================================================================================================================================================================================================================================================================================================================================================================================================================================================================================================================================================================================================================================================================================================================================================================================================================================================================================================================================================================================================================================================================================================================================================================================================================================================================================================================================================================================================================================================================================================================================================================================================================================================================================================================================================================================================================================================================================================================================================================================================================================================================================================================================================================================================================================================================================================================================================================================================================================================================================================================================================================================================================================================================================================================================================================================================================================================================================================================================================================================================================================================================================================================================================================================================================================================================================================================================================================================================================================================================================================================================================================================================================================================================================================================================================================================================================================================================================================================================================================================================================================================================================================================================================================================================================================================================================================================================================================================================================================================================================================================================================================================================================================================================================================================================================================================================================================================================================================================================================================================================================================================================================================================================================================================================================================================================================================================================================================================================================================================================================================================================================================================================================================================================================================================================================================================================================================================================================================================================================================================================================================================================================================================================================================================================================================================================================================================================================================================================================================================================================================================================================================================================================================================================================================================================================================================================================================================================================================================================================================================================================================================================================================================================================================================================================================================================================================================================================================================================================================================================================================================================================================================================================================================================================================================================================================================================================================================================================================================================================================================================================================================================================================================================================================================================================================================================================] - 0s 59us/sample - loss: 0.0983 - accuracy: 0.9843\n",
            "Train Score [0.09386506222990242, 0.984252]\n",
            "188/1 [========================================================================================================================================================================================================================================================================================================================================================================================================================================================================================================================================================================================================================================================================================================================================================================================================================================================================================================================================================================================================================================================================================================================================================================================================================================================================================================================================================================================================================================================================================================================================================================================================================================================================================================================================================================================================================================================================================================================================================================================================================================================================================================================================================================================================================================================================================================================================================================================================================================================================================================================================================================================================================================================================================================================================================================================================================================================================================================================================================================================================================================================================================================================================================================================================================================================================================================================================================================================================================================================================================================================================================================================================================================================================================================================================================================================================================================================================================================================================================================================================================================================================================================================================================================================================================================================================================================================================================================================================================================================================================================================================================================================================================================================================================================================================================================================================================================================================================================================================================================================================================================================================================================================================================================================================================================================================================================================================================================================================================================================================================================================================================================================================================================================================================================================================================================================================================================================================] - 0s 56us/sample - loss: 0.1118 - accuracy: 0.9734\n",
            "Test Score [0.10819130850599167, 0.9734042]\n"
          ],
          "name": "stdout"
        }
      ]
    },
    {
      "cell_type": "code",
      "metadata": {
        "id": "vJLTFAlFPyqt",
        "colab_type": "code",
        "colab": {
          "base_uri": "https://localhost:8080/",
          "height": 283
        },
        "outputId": "eb3ea62e-f596-4ada-ed99-930bcafb0ba1"
      },
      "source": [
        "# plot, whats returned by model.fit\n",
        "import matplotlib.pyplot as plt\n",
        "\n",
        "plt.plot(r.history['loss'],label='loss')\n",
        "plt.plot(r.history['val_loss'],label='Validation loss')\n",
        "plt.legend()"
      ],
      "execution_count": 54,
      "outputs": [
        {
          "output_type": "execute_result",
          "data": {
            "text/plain": [
              "<matplotlib.legend.Legend at 0x7fa59da9beb8>"
            ]
          },
          "metadata": {
            "tags": []
          },
          "execution_count": 54
        },
        {
          "output_type": "display_data",
          "data": {
            "image/png": "[encoded data removed]",
            "text/plain": [
              "<Figure size 432x288 with 1 Axes>"
            ]
          },
          "metadata": {
            "tags": []
          }
        }
      ]
    },
    {
      "cell_type": "code",
      "metadata": {
        "id": "hEZSp6HlQb5w",
        "colab_type": "code",
        "colab": {
          "base_uri": "https://localhost:8080/",
          "height": 283
        },
        "outputId": "59e00271-57cf-4a54-bf65-741810a635bf"
      },
      "source": [
        "plt.plot(r.history['accuracy'],label='Accuracy')\n",
        "plt.plot(r.history['val_accuracy'],label='Validation Accuracy')\n",
        "plt.legend()"
      ],
      "execution_count": 55,
      "outputs": [
        {
          "output_type": "execute_result",
          "data": {
            "text/plain": [
              "<matplotlib.legend.Legend at 0x7fa59deae390>"
            ]
          },
          "metadata": {
            "tags": []
          },
          "execution_count": 55
        },
        {
          "output_type": "display_data",
          "data": {
            "image/png": "[encoded data removed]",
            "text/plain": [
              "<Figure size 432x288 with 1 Axes>"
            ]
          },
          "metadata": {
            "tags": []
          }
        }
      ]
    },
    {
      "cell_type": "code",
      "metadata": {
        "id": "59uO1d-4Q46g",
        "colab_type": "code",
        "colab": {}
      },
      "source": [
        ""
      ],
      "execution_count": 0,
      "outputs": []
    }
  ]
}