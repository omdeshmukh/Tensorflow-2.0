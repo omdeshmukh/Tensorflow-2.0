{
  "nbformat": 4,
  "nbformat_minor": 0,
  "metadata": {
    "colab": {
      "name": "Welcome To Colaboratory",
      "provenance": [],
      "collapsed_sections": [],
      "toc_visible": true,
      "include_colab_link": true
    },
    "kernelspec": {
      "display_name": "Python 3",
      "name": "python3"
    }
  },
  "cells": [
    {
      "cell_type": "markdown",
      "metadata": {
        "id": "view-in-github",
        "colab_type": "text"
      },
      "source": [
        "<a href=\"https://colab.research.google.com/github/omdeshmukh/Tensorflow-2.0/blob/master/Logistic%20Regression%20Updated.ipynb\" target=\"_parent\"><img src=\"https://colab.research.google.com/assets/colab-badge.svg\" alt=\"Open In Colab\"/></a>"
      ]
    },
    {
      "cell_type": "code",
      "metadata": {
        "id": "Qr-7kdGBDLJo",
        "colab_type": "code",
        "colab": {
          "base_uri": "https://localhost:8080/",
          "height": 141
        },
        "outputId": "e408c82a-102c-41b2-e724-bd9f38ba327e"
      },
      "source": [
        "!pip install -q tensorflow==2.0"
      ],
      "execution_count": 1,
      "outputs": [
        {
          "output_type": "stream",
          "text": [
            "\u001b[K     |████████████████████████████████| 86.3MB 47kB/s \n",
            "\u001b[K     |████████████████████████████████| 450kB 42.0MB/s \n",
            "\u001b[K     |████████████████████████████████| 3.8MB 38.2MB/s \n",
            "\u001b[K     |████████████████████████████████| 81kB 10.3MB/s \n",
            "\u001b[31mERROR: tensorboard 2.0.2 has requirement grpcio>=1.24.3, but you'll have grpcio 1.15.0 which is incompatible.\u001b[0m\n",
            "\u001b[31mERROR: google-colab 1.0.0 has requirement google-auth~=1.4.0, but you'll have google-auth 1.11.0 which is incompatible.\u001b[0m\n",
            "\u001b[?25h"
          ],
          "name": "stdout"
        }
      ]
    },
    {
      "cell_type": "code",
      "metadata": {
        "id": "pEBp0JbCDx9K",
        "colab_type": "code",
        "colab": {
          "base_uri": "https://localhost:8080/",
          "height": 35
        },
        "outputId": "56f7fe00-1821-4d7b-db9d-c4c98d830fa0"
      },
      "source": [
        "import tensorflow as tf\n",
        "print(tf.__version__)"
      ],
      "execution_count": 2,
      "outputs": [
        {
          "output_type": "stream",
          "text": [
            "2.0.0\n"
          ],
          "name": "stdout"
        }
      ]
    },
    {
      "cell_type": "code",
      "metadata": {
        "id": "Ui-PC5ZTDOhk",
        "colab_type": "code",
        "colab": {}
      },
      "source": [
        "#load the data from SKlearn Datasets\n",
        "from sklearn.datasets import load_breast_cancer\n",
        "data=load_breast_cancer()"
      ],
      "execution_count": 0,
      "outputs": []
    },
    {
      "cell_type": "code",
      "metadata": {
        "id": "KD4Xy9oIDqMu",
        "colab_type": "code",
        "colab": {
          "base_uri": "https://localhost:8080/",
          "height": 35
        },
        "outputId": "01af74ac-f0fc-4012-e83e-4aba36b070ad"
      },
      "source": [
        "# check the type of data\n",
        "type(data)"
      ],
      "execution_count": 4,
      "outputs": [
        {
          "output_type": "execute_result",
          "data": {
            "text/plain": [
              "sklearn.utils.Bunch"
            ]
          },
          "metadata": {
            "tags": []
          },
          "execution_count": 4
        }
      ]
    },
    {
      "cell_type": "code",
      "metadata": {
        "id": "WcvA6nVzEHUQ",
        "colab_type": "code",
        "colab": {
          "base_uri": "https://localhost:8080/",
          "height": 35
        },
        "outputId": "53fe099b-bdf2-4a84-dc02-444acabc4c49"
      },
      "source": [
        "# NOte: the data type of this is bunch this acts like a dictonory\n",
        "data.keys()"
      ],
      "execution_count": 5,
      "outputs": [
        {
          "output_type": "execute_result",
          "data": {
            "text/plain": [
              "dict_keys(['data', 'target', 'target_names', 'DESCR', 'feature_names', 'filename'])"
            ]
          },
          "metadata": {
            "tags": []
          },
          "execution_count": 5
        }
      ]
    },
    {
      "cell_type": "code",
      "metadata": {
        "id": "rM-_Ri_5Ecdc",
        "colab_type": "code",
        "colab": {
          "base_uri": "https://localhost:8080/",
          "height": 35
        },
        "outputId": "ba24bba2-a905-42c1-a108-c5647bb2349e"
      },
      "source": [
        "# check the shape of data\n",
        "data.data.shape\n",
        "# now we have total 569 samples and 30 Features"
      ],
      "execution_count": 6,
      "outputs": [
        {
          "output_type": "execute_result",
          "data": {
            "text/plain": [
              "(569, 30)"
            ]
          },
          "metadata": {
            "tags": []
          },
          "execution_count": 6
        }
      ]
    },
    {
      "cell_type": "code",
      "metadata": {
        "id": "DNhHW6ReEoYo",
        "colab_type": "code",
        "colab": {
          "base_uri": "https://localhost:8080/",
          "height": 468
        },
        "outputId": "fcd1f721-b212-437b-e419-64a1b2214357"
      },
      "source": [
        "# returns 1d array containing 0 and 1\n",
        "data.target"
      ],
      "execution_count": 7,
      "outputs": [
        {
          "output_type": "execute_result",
          "data": {
            "text/plain": [
              "array([0, 0, 0, 0, 0, 0, 0, 0, 0, 0, 0, 0, 0, 0, 0, 0, 0, 0, 0, 1, 1, 1,\n",
              "       0, 0, 0, 0, 0, 0, 0, 0, 0, 0, 0, 0, 0, 0, 0, 1, 0, 0, 0, 0, 0, 0,\n",
              "       0, 0, 1, 0, 1, 1, 1, 1, 1, 0, 0, 1, 0, 0, 1, 1, 1, 1, 0, 1, 0, 0,\n",
              "       1, 1, 1, 1, 0, 1, 0, 0, 1, 0, 1, 0, 0, 1, 1, 1, 0, 0, 1, 0, 0, 0,\n",
              "       1, 1, 1, 0, 1, 1, 0, 0, 1, 1, 1, 0, 0, 1, 1, 1, 1, 0, 1, 1, 0, 1,\n",
              "       1, 1, 1, 1, 1, 1, 1, 0, 0, 0, 1, 0, 0, 1, 1, 1, 0, 0, 1, 0, 1, 0,\n",
              "       0, 1, 0, 0, 1, 1, 0, 1, 1, 0, 1, 1, 1, 1, 0, 1, 1, 1, 1, 1, 1, 1,\n",
              "       1, 1, 0, 1, 1, 1, 1, 0, 0, 1, 0, 1, 1, 0, 0, 1, 1, 0, 0, 1, 1, 1,\n",
              "       1, 0, 1, 1, 0, 0, 0, 1, 0, 1, 0, 1, 1, 1, 0, 1, 1, 0, 0, 1, 0, 0,\n",
              "       0, 0, 1, 0, 0, 0, 1, 0, 1, 0, 1, 1, 0, 1, 0, 0, 0, 0, 1, 1, 0, 0,\n",
              "       1, 1, 1, 0, 1, 1, 1, 1, 1, 0, 0, 1, 1, 0, 1, 1, 0, 0, 1, 0, 1, 1,\n",
              "       1, 1, 0, 1, 1, 1, 1, 1, 0, 1, 0, 0, 0, 0, 0, 0, 0, 0, 0, 0, 0, 0,\n",
              "       0, 0, 1, 1, 1, 1, 1, 1, 0, 1, 0, 1, 1, 0, 1, 1, 0, 1, 0, 0, 1, 1,\n",
              "       1, 1, 1, 1, 1, 1, 1, 1, 1, 1, 1, 0, 1, 1, 0, 1, 0, 1, 1, 1, 1, 1,\n",
              "       1, 1, 1, 1, 1, 1, 1, 1, 1, 0, 1, 1, 1, 0, 1, 0, 1, 1, 1, 1, 0, 0,\n",
              "       0, 1, 1, 1, 1, 0, 1, 0, 1, 0, 1, 1, 1, 0, 1, 1, 1, 1, 1, 1, 1, 0,\n",
              "       0, 0, 1, 1, 1, 1, 1, 1, 1, 1, 1, 1, 1, 0, 0, 1, 0, 0, 0, 1, 0, 0,\n",
              "       1, 1, 1, 1, 1, 0, 1, 1, 1, 1, 1, 0, 1, 1, 1, 0, 1, 1, 0, 0, 1, 1,\n",
              "       1, 1, 1, 1, 0, 1, 1, 1, 1, 1, 1, 1, 0, 1, 1, 1, 1, 1, 0, 1, 1, 0,\n",
              "       1, 1, 1, 1, 1, 1, 1, 1, 1, 1, 1, 1, 0, 1, 0, 0, 1, 0, 1, 1, 1, 1,\n",
              "       1, 0, 1, 1, 0, 1, 0, 1, 1, 0, 1, 0, 1, 1, 1, 1, 1, 1, 1, 1, 0, 0,\n",
              "       1, 1, 1, 1, 1, 1, 0, 1, 1, 1, 1, 1, 1, 1, 1, 1, 1, 0, 1, 1, 1, 1,\n",
              "       1, 1, 1, 0, 1, 0, 1, 1, 0, 1, 1, 1, 1, 1, 0, 0, 1, 0, 1, 0, 1, 1,\n",
              "       1, 1, 1, 0, 1, 1, 0, 1, 0, 1, 0, 0, 1, 1, 1, 0, 1, 1, 1, 1, 1, 1,\n",
              "       1, 1, 1, 1, 1, 0, 1, 0, 0, 1, 1, 1, 1, 1, 1, 1, 1, 1, 1, 1, 1, 1,\n",
              "       1, 1, 1, 1, 1, 1, 1, 1, 1, 1, 1, 1, 0, 0, 0, 0, 0, 0, 1])"
            ]
          },
          "metadata": {
            "tags": []
          },
          "execution_count": 7
        }
      ]
    },
    {
      "cell_type": "code",
      "metadata": {
        "id": "fPjnHZb0FHKj",
        "colab_type": "code",
        "colab": {
          "base_uri": "https://localhost:8080/",
          "height": 35
        },
        "outputId": "335082f8-9d7c-4d93-f94b-273cfe15aa9c"
      },
      "source": [
        "# from the below code we can say that 1- Malignant Cancer and 0 for Benign\n",
        "data.target_names"
      ],
      "execution_count": 8,
      "outputs": [
        {
          "output_type": "execute_result",
          "data": {
            "text/plain": [
              "array(['malignant', 'benign'], dtype='<U9')"
            ]
          },
          "metadata": {
            "tags": []
          },
          "execution_count": 8
        }
      ]
    },
    {
      "cell_type": "code",
      "metadata": {
        "id": "26spBH9tFRic",
        "colab_type": "code",
        "colab": {
          "base_uri": "https://localhost:8080/",
          "height": 191
        },
        "outputId": "50060a50-e0db-44a5-c110-edaa87ce8116"
      },
      "source": [
        "data.feature_names"
      ],
      "execution_count": 9,
      "outputs": [
        {
          "output_type": "execute_result",
          "data": {
            "text/plain": [
              "array(['mean radius', 'mean texture', 'mean perimeter', 'mean area',\n",
              "       'mean smoothness', 'mean compactness', 'mean concavity',\n",
              "       'mean concave points', 'mean symmetry', 'mean fractal dimension',\n",
              "       'radius error', 'texture error', 'perimeter error', 'area error',\n",
              "       'smoothness error', 'compactness error', 'concavity error',\n",
              "       'concave points error', 'symmetry error',\n",
              "       'fractal dimension error', 'worst radius', 'worst texture',\n",
              "       'worst perimeter', 'worst area', 'worst smoothness',\n",
              "       'worst compactness', 'worst concavity', 'worst concave points',\n",
              "       'worst symmetry', 'worst fractal dimension'], dtype='<U23')"
            ]
          },
          "metadata": {
            "tags": []
          },
          "execution_count": 9
        }
      ]
    },
    {
      "cell_type": "code",
      "metadata": {
        "id": "upU8zzV4Ffi3",
        "colab_type": "code",
        "colab": {
          "base_uri": "https://localhost:8080/",
          "height": 52
        },
        "outputId": "7d489704-7130-4d2a-8d37-13f7270db91f"
      },
      "source": [
        "from sklearn.model_selection import train_test_split\n",
        "X_train,X_test,y_train,y_test=train_test_split(data.data,data.target,test_size=0.33)\n",
        "N,D=X_train.shape\n",
        "\n",
        "print('No. of training sasmples',N)\n",
        "print('Dimensions of Training data',D)"
      ],
      "execution_count": 10,
      "outputs": [
        {
          "output_type": "stream",
          "text": [
            "No. of training sasmples 381\n",
            "Dimensions of Training data 30\n"
          ],
          "name": "stdout"
        }
      ]
    },
    {
      "cell_type": "code",
      "metadata": {
        "id": "DBIsZf4HIbAn",
        "colab_type": "code",
        "colab": {
          "base_uri": "https://localhost:8080/",
          "height": 295
        },
        "outputId": "0240fae6-3c93-4a8c-88fc-049210e43a0c"
      },
      "source": [
        "print(X_train[0:3])\n",
        "print(y_train[0:3])"
      ],
      "execution_count": 11,
      "outputs": [
        {
          "output_type": "stream",
          "text": [
            "[[1.315e+01 1.534e+01 8.531e+01 5.389e+02 9.384e-02 8.498e-02 9.293e-02\n",
            "  3.483e-02 1.822e-01 6.207e-02 2.710e-01 7.927e-01 1.819e+00 2.279e+01\n",
            "  8.584e-03 2.017e-02 3.047e-02 9.536e-03 2.769e-02 3.479e-03 1.477e+01\n",
            "  2.050e+01 9.767e+01 6.773e+02 1.478e-01 2.256e-01 3.009e-01 9.722e-02\n",
            "  3.849e-01 8.633e-02]\n",
            " [1.136e+01 1.757e+01 7.249e+01 3.998e+02 8.858e-02 5.313e-02 2.783e-02\n",
            "  2.100e-02 1.601e-01 5.913e-02 1.916e-01 1.555e+00 1.359e+00 1.366e+01\n",
            "  5.391e-03 9.947e-03 1.163e-02 5.872e-03 1.341e-02 1.659e-03 1.305e+01\n",
            "  3.632e+01 8.507e+01 5.213e+02 1.453e-01 1.622e-01 1.811e-01 8.698e-02\n",
            "  2.973e-01 7.745e-02]\n",
            " [1.706e+01 2.100e+01 1.118e+02 9.186e+02 1.119e-01 1.056e-01 1.508e-01\n",
            "  9.934e-02 1.727e-01 6.071e-02 8.161e-01 2.129e+00 6.076e+00 8.717e+01\n",
            "  6.455e-03 1.797e-02 4.502e-02 1.744e-02 1.829e-02 3.733e-03 2.099e+01\n",
            "  3.315e+01 1.432e+02 1.362e+03 1.449e-01 2.053e-01 3.920e-01 1.827e-01\n",
            "  2.623e-01 7.599e-02]]\n",
            "[1 1 0]\n"
          ],
          "name": "stdout"
        }
      ]
    },
    {
      "cell_type": "code",
      "metadata": {
        "id": "UC51x2rCI0_m",
        "colab_type": "code",
        "colab": {}
      },
      "source": [
        "# Scalling of the data\n",
        "# The op is the linear combination of Input..You don't want input has very long range say 1M\n",
        "#and another input has very small range 0.001..if this happens... then weight will be very sesnitive..and \n",
        "# not sensitive input has very small range\n",
        "# This is handled by normalization\n",
        "#(Substracting the mean from input feature and Dividing by STD Deviation) \n",
        "from sklearn.preprocessing import StandardScaler\n",
        "scaler=StandardScaler()\n",
        "X_train=scaler.fit_transform(X_train)\n",
        "X_test=scaler.transform(X_test)"
      ],
      "execution_count": 0,
      "outputs": []
    },
    {
      "cell_type": "markdown",
      "metadata": {
        "id": "45JA36nCMZmW",
        "colab_type": "text"
      },
      "source": [
        "# Building the Tensorflow Model"
      ]
    },
    {
      "cell_type": "code",
      "metadata": {
        "id": "zS-xGL_8LSDD",
        "colab_type": "code",
        "colab": {
          "base_uri": "https://localhost:8080/",
          "height": 1000
        },
        "outputId": "d77f53d5-24ac-45a9-f565-418ad53ca15b"
      },
      "source": [
        "model=tf.keras.models.Sequential(\n",
        "    [tf.keras.layers.Input(shape=(D,)),\n",
        "     tf.keras.layers.Dense(1,activation=\"sigmoid\"\n",
        "    )]\n",
        ")\n",
        "\n",
        "'''\n",
        "# Another way to write a model  is\n",
        "\n",
        "model=tf.keras.models.Sequential()\n",
        "model.add(tf.keras.layers.Dense(1,input_shape=(D,),activation=\"sigmoid\"))\n",
        "\n",
        "'''\n",
        "\n",
        "# Compile the model\n",
        "model.compile(optimizer='adam', loss='binary_crossentropy', metrics=['accuracy'])\n",
        "\n",
        "\n",
        "# Train the model\n",
        "\n",
        "r=model.fit(X_train,y_train, validation_data=(X_test,y_test),epochs=120)"
      ],
      "execution_count": 13,
      "outputs": [
        {
          "output_type": "stream",
          "text": [
            "Train on 381 samples, validate on 188 samples\n",
            "Epoch 1/120\n",
            "381/381 [==============================] - 1s 2ms/sample - loss: 1.0552 - accuracy: 0.4173 - val_loss: 0.9783 - val_accuracy: 0.3883\n",
            "Epoch 2/120\n",
            "381/381 [==============================] - 0s 110us/sample - loss: 0.9763 - accuracy: 0.4567 - val_loss: 0.9063 - val_accuracy: 0.4309\n",
            "Epoch 3/120\n",
            "381/381 [==============================] - 0s 107us/sample - loss: 0.9028 - accuracy: 0.4934 - val_loss: 0.8423 - val_accuracy: 0.4894\n",
            "Epoch 4/120\n",
            "381/381 [==============================] - 0s 109us/sample - loss: 0.8350 - accuracy: 0.5486 - val_loss: 0.7864 - val_accuracy: 0.5319\n",
            "Epoch 5/120\n",
            "381/381 [==============================] - 0s 111us/sample - loss: 0.7756 - accuracy: 0.5827 - val_loss: 0.7350 - val_accuracy: 0.6011\n",
            "Epoch 6/120\n",
            "381/381 [==============================] - 0s 115us/sample - loss: 0.7213 - accuracy: 0.6089 - val_loss: 0.6888 - val_accuracy: 0.6277\n",
            "Epoch 7/120\n",
            "381/381 [==============================] - 0s 121us/sample - loss: 0.6729 - accuracy: 0.6509 - val_loss: 0.6467 - val_accuracy: 0.6596\n",
            "Epoch 8/120\n",
            "381/381 [==============================] - 0s 125us/sample - loss: 0.6290 - accuracy: 0.6745 - val_loss: 0.6088 - val_accuracy: 0.6862\n",
            "Epoch 9/120\n",
            "381/381 [==============================] - 0s 113us/sample - loss: 0.5882 - accuracy: 0.6982 - val_loss: 0.5760 - val_accuracy: 0.7128\n",
            "Epoch 10/120\n",
            "381/381 [==============================] - 0s 107us/sample - loss: 0.5530 - accuracy: 0.7218 - val_loss: 0.5461 - val_accuracy: 0.7234\n",
            "Epoch 11/120\n",
            "381/381 [==============================] - 0s 100us/sample - loss: 0.5216 - accuracy: 0.7533 - val_loss: 0.5188 - val_accuracy: 0.7606\n",
            "Epoch 12/120\n",
            "381/381 [==============================] - 0s 108us/sample - loss: 0.4920 - accuracy: 0.7638 - val_loss: 0.4950 - val_accuracy: 0.7819\n",
            "Epoch 13/120\n",
            "381/381 [==============================] - 0s 109us/sample - loss: 0.4669 - accuracy: 0.7769 - val_loss: 0.4730 - val_accuracy: 0.8032\n",
            "Epoch 14/120\n",
            "381/381 [==============================] - 0s 116us/sample - loss: 0.4439 - accuracy: 0.7874 - val_loss: 0.4529 - val_accuracy: 0.8085\n",
            "Epoch 15/120\n",
            "381/381 [==============================] - 0s 136us/sample - loss: 0.4229 - accuracy: 0.8058 - val_loss: 0.4345 - val_accuracy: 0.8085\n",
            "Epoch 16/120\n",
            "381/381 [==============================] - 0s 117us/sample - loss: 0.4037 - accuracy: 0.8189 - val_loss: 0.4178 - val_accuracy: 0.8191\n",
            "Epoch 17/120\n",
            "381/381 [==============================] - 0s 102us/sample - loss: 0.3867 - accuracy: 0.8346 - val_loss: 0.4025 - val_accuracy: 0.8298\n",
            "Epoch 18/120\n",
            "381/381 [==============================] - 0s 115us/sample - loss: 0.3713 - accuracy: 0.8425 - val_loss: 0.3883 - val_accuracy: 0.8457\n",
            "Epoch 19/120\n",
            "381/381 [==============================] - 0s 101us/sample - loss: 0.3565 - accuracy: 0.8609 - val_loss: 0.3755 - val_accuracy: 0.8457\n",
            "Epoch 20/120\n",
            "381/381 [==============================] - 0s 112us/sample - loss: 0.3437 - accuracy: 0.8688 - val_loss: 0.3635 - val_accuracy: 0.8457\n",
            "Epoch 21/120\n",
            "381/381 [==============================] - 0s 114us/sample - loss: 0.3314 - accuracy: 0.8766 - val_loss: 0.3526 - val_accuracy: 0.8511\n",
            "Epoch 22/120\n",
            "381/381 [==============================] - 0s 100us/sample - loss: 0.3205 - accuracy: 0.8845 - val_loss: 0.3424 - val_accuracy: 0.8617\n",
            "Epoch 23/120\n",
            "381/381 [==============================] - 0s 117us/sample - loss: 0.3103 - accuracy: 0.8845 - val_loss: 0.3328 - val_accuracy: 0.8670\n",
            "Epoch 24/120\n",
            "381/381 [==============================] - 0s 106us/sample - loss: 0.3009 - accuracy: 0.8898 - val_loss: 0.3239 - val_accuracy: 0.8830\n",
            "Epoch 25/120\n",
            "381/381 [==============================] - 0s 114us/sample - loss: 0.2920 - accuracy: 0.8924 - val_loss: 0.3156 - val_accuracy: 0.8936\n",
            "Epoch 26/120\n",
            "381/381 [==============================] - 0s 122us/sample - loss: 0.2837 - accuracy: 0.9003 - val_loss: 0.3081 - val_accuracy: 0.8989\n",
            "Epoch 27/120\n",
            "381/381 [==============================] - 0s 123us/sample - loss: 0.2762 - accuracy: 0.9029 - val_loss: 0.3008 - val_accuracy: 0.8989\n",
            "Epoch 28/120\n",
            "381/381 [==============================] - 0s 113us/sample - loss: 0.2691 - accuracy: 0.9081 - val_loss: 0.2939 - val_accuracy: 0.8989\n",
            "Epoch 29/120\n",
            "381/381 [==============================] - 0s 121us/sample - loss: 0.2623 - accuracy: 0.9108 - val_loss: 0.2876 - val_accuracy: 0.9043\n",
            "Epoch 30/120\n",
            "381/381 [==============================] - 0s 117us/sample - loss: 0.2559 - accuracy: 0.9134 - val_loss: 0.2816 - val_accuracy: 0.9043\n",
            "Epoch 31/120\n",
            "381/381 [==============================] - 0s 105us/sample - loss: 0.2504 - accuracy: 0.9134 - val_loss: 0.2757 - val_accuracy: 0.9043\n",
            "Epoch 32/120\n",
            "381/381 [==============================] - 0s 102us/sample - loss: 0.2444 - accuracy: 0.9160 - val_loss: 0.2702 - val_accuracy: 0.9096\n",
            "Epoch 33/120\n",
            "381/381 [==============================] - 0s 109us/sample - loss: 0.2391 - accuracy: 0.9134 - val_loss: 0.2651 - val_accuracy: 0.9149\n",
            "Epoch 34/120\n",
            "381/381 [==============================] - 0s 114us/sample - loss: 0.2343 - accuracy: 0.9160 - val_loss: 0.2601 - val_accuracy: 0.9149\n",
            "Epoch 35/120\n",
            "381/381 [==============================] - 0s 102us/sample - loss: 0.2294 - accuracy: 0.9160 - val_loss: 0.2554 - val_accuracy: 0.9149\n",
            "Epoch 36/120\n",
            "381/381 [==============================] - 0s 106us/sample - loss: 0.2249 - accuracy: 0.9186 - val_loss: 0.2511 - val_accuracy: 0.9255\n",
            "Epoch 37/120\n",
            "381/381 [==============================] - 0s 106us/sample - loss: 0.2206 - accuracy: 0.9186 - val_loss: 0.2469 - val_accuracy: 0.9309\n",
            "Epoch 38/120\n",
            "381/381 [==============================] - 0s 104us/sample - loss: 0.2166 - accuracy: 0.9239 - val_loss: 0.2428 - val_accuracy: 0.9309\n",
            "Epoch 39/120\n",
            "381/381 [==============================] - 0s 110us/sample - loss: 0.2126 - accuracy: 0.9239 - val_loss: 0.2387 - val_accuracy: 0.9362\n",
            "Epoch 40/120\n",
            "381/381 [==============================] - 0s 105us/sample - loss: 0.2088 - accuracy: 0.9265 - val_loss: 0.2352 - val_accuracy: 0.9362\n",
            "Epoch 41/120\n",
            "381/381 [==============================] - 0s 104us/sample - loss: 0.2053 - accuracy: 0.9265 - val_loss: 0.2316 - val_accuracy: 0.9415\n",
            "Epoch 42/120\n",
            "381/381 [==============================] - 0s 101us/sample - loss: 0.2019 - accuracy: 0.9265 - val_loss: 0.2282 - val_accuracy: 0.9415\n",
            "Epoch 43/120\n",
            "381/381 [==============================] - 0s 113us/sample - loss: 0.1985 - accuracy: 0.9318 - val_loss: 0.2249 - val_accuracy: 0.9415\n",
            "Epoch 44/120\n",
            "381/381 [==============================] - 0s 120us/sample - loss: 0.1955 - accuracy: 0.9318 - val_loss: 0.2218 - val_accuracy: 0.9468\n",
            "Epoch 45/120\n",
            "381/381 [==============================] - 0s 112us/sample - loss: 0.1923 - accuracy: 0.9370 - val_loss: 0.2188 - val_accuracy: 0.9468\n",
            "Epoch 46/120\n",
            "381/381 [==============================] - 0s 114us/sample - loss: 0.1895 - accuracy: 0.9370 - val_loss: 0.2158 - val_accuracy: 0.9415\n",
            "Epoch 47/120\n",
            "381/381 [==============================] - 0s 104us/sample - loss: 0.1866 - accuracy: 0.9370 - val_loss: 0.2131 - val_accuracy: 0.9415\n",
            "Epoch 48/120\n",
            "381/381 [==============================] - 0s 115us/sample - loss: 0.1840 - accuracy: 0.9370 - val_loss: 0.2103 - val_accuracy: 0.9415\n",
            "Epoch 49/120\n",
            "381/381 [==============================] - 0s 123us/sample - loss: 0.1814 - accuracy: 0.9370 - val_loss: 0.2077 - val_accuracy: 0.9415\n",
            "Epoch 50/120\n",
            "381/381 [==============================] - 0s 117us/sample - loss: 0.1789 - accuracy: 0.9396 - val_loss: 0.2053 - val_accuracy: 0.9415\n",
            "Epoch 51/120\n",
            "381/381 [==============================] - 0s 113us/sample - loss: 0.1765 - accuracy: 0.9396 - val_loss: 0.2027 - val_accuracy: 0.9415\n",
            "Epoch 52/120\n",
            "381/381 [==============================] - 0s 127us/sample - loss: 0.1742 - accuracy: 0.9396 - val_loss: 0.2005 - val_accuracy: 0.9521\n",
            "Epoch 53/120\n",
            "381/381 [==============================] - 0s 115us/sample - loss: 0.1719 - accuracy: 0.9396 - val_loss: 0.1983 - val_accuracy: 0.9521\n",
            "Epoch 54/120\n",
            "381/381 [==============================] - 0s 106us/sample - loss: 0.1697 - accuracy: 0.9396 - val_loss: 0.1961 - val_accuracy: 0.9521\n",
            "Epoch 55/120\n",
            "381/381 [==============================] - 0s 111us/sample - loss: 0.1676 - accuracy: 0.9423 - val_loss: 0.1940 - val_accuracy: 0.9521\n",
            "Epoch 56/120\n",
            "381/381 [==============================] - 0s 112us/sample - loss: 0.1655 - accuracy: 0.9423 - val_loss: 0.1920 - val_accuracy: 0.9521\n",
            "Epoch 57/120\n",
            "381/381 [==============================] - 0s 129us/sample - loss: 0.1636 - accuracy: 0.9423 - val_loss: 0.1900 - val_accuracy: 0.9521\n",
            "Epoch 58/120\n",
            "381/381 [==============================] - 0s 133us/sample - loss: 0.1616 - accuracy: 0.9475 - val_loss: 0.1881 - val_accuracy: 0.9574\n",
            "Epoch 59/120\n",
            "381/381 [==============================] - 0s 126us/sample - loss: 0.1598 - accuracy: 0.9475 - val_loss: 0.1862 - val_accuracy: 0.9574\n",
            "Epoch 60/120\n",
            "381/381 [==============================] - 0s 125us/sample - loss: 0.1579 - accuracy: 0.9475 - val_loss: 0.1846 - val_accuracy: 0.9574\n",
            "Epoch 61/120\n",
            "381/381 [==============================] - 0s 128us/sample - loss: 0.1563 - accuracy: 0.9475 - val_loss: 0.1828 - val_accuracy: 0.9574\n",
            "Epoch 62/120\n",
            "381/381 [==============================] - 0s 121us/sample - loss: 0.1545 - accuracy: 0.9475 - val_loss: 0.1811 - val_accuracy: 0.9574\n",
            "Epoch 63/120\n",
            "381/381 [==============================] - 0s 127us/sample - loss: 0.1529 - accuracy: 0.9475 - val_loss: 0.1795 - val_accuracy: 0.9574\n",
            "Epoch 64/120\n",
            "381/381 [==============================] - 0s 107us/sample - loss: 0.1512 - accuracy: 0.9475 - val_loss: 0.1779 - val_accuracy: 0.9574\n",
            "Epoch 65/120\n",
            "381/381 [==============================] - 0s 121us/sample - loss: 0.1498 - accuracy: 0.9475 - val_loss: 0.1764 - val_accuracy: 0.9574\n",
            "Epoch 66/120\n",
            "381/381 [==============================] - 0s 110us/sample - loss: 0.1482 - accuracy: 0.9501 - val_loss: 0.1749 - val_accuracy: 0.9574\n",
            "Epoch 67/120\n",
            "381/381 [==============================] - 0s 148us/sample - loss: 0.1467 - accuracy: 0.9501 - val_loss: 0.1734 - val_accuracy: 0.9574\n",
            "Epoch 68/120\n",
            "381/381 [==============================] - 0s 111us/sample - loss: 0.1453 - accuracy: 0.9501 - val_loss: 0.1720 - val_accuracy: 0.9574\n",
            "Epoch 69/120\n",
            "381/381 [==============================] - 0s 113us/sample - loss: 0.1439 - accuracy: 0.9501 - val_loss: 0.1707 - val_accuracy: 0.9574\n",
            "Epoch 70/120\n",
            "381/381 [==============================] - 0s 115us/sample - loss: 0.1425 - accuracy: 0.9501 - val_loss: 0.1694 - val_accuracy: 0.9574\n",
            "Epoch 71/120\n",
            "381/381 [==============================] - 0s 123us/sample - loss: 0.1411 - accuracy: 0.9501 - val_loss: 0.1680 - val_accuracy: 0.9574\n",
            "Epoch 72/120\n",
            "381/381 [==============================] - 0s 122us/sample - loss: 0.1399 - accuracy: 0.9501 - val_loss: 0.1667 - val_accuracy: 0.9574\n",
            "Epoch 73/120\n",
            "381/381 [==============================] - 0s 115us/sample - loss: 0.1386 - accuracy: 0.9501 - val_loss: 0.1656 - val_accuracy: 0.9574\n",
            "Epoch 74/120\n",
            "381/381 [==============================] - 0s 103us/sample - loss: 0.1373 - accuracy: 0.9528 - val_loss: 0.1644 - val_accuracy: 0.9574\n",
            "Epoch 75/120\n",
            "381/381 [==============================] - 0s 105us/sample - loss: 0.1361 - accuracy: 0.9528 - val_loss: 0.1633 - val_accuracy: 0.9574\n",
            "Epoch 76/120\n",
            "381/381 [==============================] - 0s 114us/sample - loss: 0.1349 - accuracy: 0.9528 - val_loss: 0.1621 - val_accuracy: 0.9574\n",
            "Epoch 77/120\n",
            "381/381 [==============================] - 0s 112us/sample - loss: 0.1338 - accuracy: 0.9528 - val_loss: 0.1610 - val_accuracy: 0.9574\n",
            "Epoch 78/120\n",
            "381/381 [==============================] - 0s 108us/sample - loss: 0.1327 - accuracy: 0.9528 - val_loss: 0.1600 - val_accuracy: 0.9574\n",
            "Epoch 79/120\n",
            "381/381 [==============================] - 0s 104us/sample - loss: 0.1315 - accuracy: 0.9528 - val_loss: 0.1589 - val_accuracy: 0.9574\n",
            "Epoch 80/120\n",
            "381/381 [==============================] - 0s 111us/sample - loss: 0.1305 - accuracy: 0.9554 - val_loss: 0.1578 - val_accuracy: 0.9574\n",
            "Epoch 81/120\n",
            "381/381 [==============================] - 0s 110us/sample - loss: 0.1294 - accuracy: 0.9580 - val_loss: 0.1568 - val_accuracy: 0.9574\n",
            "Epoch 82/120\n",
            "381/381 [==============================] - 0s 103us/sample - loss: 0.1284 - accuracy: 0.9580 - val_loss: 0.1558 - val_accuracy: 0.9574\n",
            "Epoch 83/120\n",
            "381/381 [==============================] - 0s 110us/sample - loss: 0.1274 - accuracy: 0.9580 - val_loss: 0.1549 - val_accuracy: 0.9574\n",
            "Epoch 84/120\n",
            "381/381 [==============================] - 0s 105us/sample - loss: 0.1264 - accuracy: 0.9580 - val_loss: 0.1540 - val_accuracy: 0.9574\n",
            "Epoch 85/120\n",
            "381/381 [==============================] - 0s 114us/sample - loss: 0.1254 - accuracy: 0.9633 - val_loss: 0.1531 - val_accuracy: 0.9574\n",
            "Epoch 86/120\n",
            "381/381 [==============================] - 0s 123us/sample - loss: 0.1245 - accuracy: 0.9633 - val_loss: 0.1522 - val_accuracy: 0.9574\n",
            "Epoch 87/120\n",
            "381/381 [==============================] - 0s 117us/sample - loss: 0.1236 - accuracy: 0.9633 - val_loss: 0.1514 - val_accuracy: 0.9574\n",
            "Epoch 88/120\n",
            "381/381 [==============================] - 0s 114us/sample - loss: 0.1227 - accuracy: 0.9633 - val_loss: 0.1505 - val_accuracy: 0.9574\n",
            "Epoch 89/120\n",
            "381/381 [==============================] - 0s 122us/sample - loss: 0.1217 - accuracy: 0.9633 - val_loss: 0.1498 - val_accuracy: 0.9574\n",
            "Epoch 90/120\n",
            "381/381 [==============================] - 0s 115us/sample - loss: 0.1209 - accuracy: 0.9633 - val_loss: 0.1489 - val_accuracy: 0.9574\n",
            "Epoch 91/120\n",
            "381/381 [==============================] - 0s 103us/sample - loss: 0.1201 - accuracy: 0.9633 - val_loss: 0.1482 - val_accuracy: 0.9574\n",
            "Epoch 92/120\n",
            "381/381 [==============================] - 0s 107us/sample - loss: 0.1192 - accuracy: 0.9633 - val_loss: 0.1474 - val_accuracy: 0.9574\n",
            "Epoch 93/120\n",
            "381/381 [==============================] - 0s 127us/sample - loss: 0.1184 - accuracy: 0.9659 - val_loss: 0.1466 - val_accuracy: 0.9574\n",
            "Epoch 94/120\n",
            "381/381 [==============================] - 0s 112us/sample - loss: 0.1176 - accuracy: 0.9659 - val_loss: 0.1458 - val_accuracy: 0.9574\n",
            "Epoch 95/120\n",
            "381/381 [==============================] - 0s 105us/sample - loss: 0.1168 - accuracy: 0.9659 - val_loss: 0.1452 - val_accuracy: 0.9574\n",
            "Epoch 96/120\n",
            "381/381 [==============================] - 0s 110us/sample - loss: 0.1160 - accuracy: 0.9659 - val_loss: 0.1444 - val_accuracy: 0.9574\n",
            "Epoch 97/120\n",
            "381/381 [==============================] - 0s 117us/sample - loss: 0.1152 - accuracy: 0.9659 - val_loss: 0.1437 - val_accuracy: 0.9574\n",
            "Epoch 98/120\n",
            "381/381 [==============================] - 0s 111us/sample - loss: 0.1144 - accuracy: 0.9659 - val_loss: 0.1431 - val_accuracy: 0.9574\n",
            "Epoch 99/120\n",
            "381/381 [==============================] - 0s 115us/sample - loss: 0.1138 - accuracy: 0.9659 - val_loss: 0.1424 - val_accuracy: 0.9574\n",
            "Epoch 100/120\n",
            "381/381 [==============================] - 0s 105us/sample - loss: 0.1130 - accuracy: 0.9659 - val_loss: 0.1418 - val_accuracy: 0.9574\n",
            "Epoch 101/120\n",
            "381/381 [==============================] - 0s 116us/sample - loss: 0.1123 - accuracy: 0.9659 - val_loss: 0.1411 - val_accuracy: 0.9574\n",
            "Epoch 102/120\n",
            "381/381 [==============================] - 0s 103us/sample - loss: 0.1116 - accuracy: 0.9659 - val_loss: 0.1405 - val_accuracy: 0.9574\n",
            "Epoch 103/120\n",
            "381/381 [==============================] - 0s 134us/sample - loss: 0.1109 - accuracy: 0.9659 - val_loss: 0.1398 - val_accuracy: 0.9574\n",
            "Epoch 104/120\n",
            "381/381 [==============================] - 0s 120us/sample - loss: 0.1102 - accuracy: 0.9659 - val_loss: 0.1393 - val_accuracy: 0.9574\n",
            "Epoch 105/120\n",
            "381/381 [==============================] - 0s 114us/sample - loss: 0.1095 - accuracy: 0.9659 - val_loss: 0.1388 - val_accuracy: 0.9574\n",
            "Epoch 106/120\n",
            "381/381 [==============================] - 0s 118us/sample - loss: 0.1089 - accuracy: 0.9659 - val_loss: 0.1381 - val_accuracy: 0.9574\n",
            "Epoch 107/120\n",
            "381/381 [==============================] - 0s 127us/sample - loss: 0.1083 - accuracy: 0.9659 - val_loss: 0.1376 - val_accuracy: 0.9574\n",
            "Epoch 108/120\n",
            "381/381 [==============================] - 0s 108us/sample - loss: 0.1076 - accuracy: 0.9659 - val_loss: 0.1371 - val_accuracy: 0.9574\n",
            "Epoch 109/120\n",
            "381/381 [==============================] - 0s 111us/sample - loss: 0.1070 - accuracy: 0.9659 - val_loss: 0.1365 - val_accuracy: 0.9574\n",
            "Epoch 110/120\n",
            "381/381 [==============================] - 0s 106us/sample - loss: 0.1064 - accuracy: 0.9659 - val_loss: 0.1360 - val_accuracy: 0.9574\n",
            "Epoch 111/120\n",
            "381/381 [==============================] - 0s 112us/sample - loss: 0.1057 - accuracy: 0.9659 - val_loss: 0.1354 - val_accuracy: 0.9574\n",
            "Epoch 112/120\n",
            "381/381 [==============================] - 0s 114us/sample - loss: 0.1051 - accuracy: 0.9659 - val_loss: 0.1350 - val_accuracy: 0.9574\n",
            "Epoch 113/120\n",
            "381/381 [==============================] - 0s 113us/sample - loss: 0.1046 - accuracy: 0.9659 - val_loss: 0.1345 - val_accuracy: 0.9574\n",
            "Epoch 114/120\n",
            "381/381 [==============================] - 0s 114us/sample - loss: 0.1040 - accuracy: 0.9659 - val_loss: 0.1339 - val_accuracy: 0.9574\n",
            "Epoch 115/120\n",
            "381/381 [==============================] - 0s 107us/sample - loss: 0.1034 - accuracy: 0.9685 - val_loss: 0.1335 - val_accuracy: 0.9574\n",
            "Epoch 116/120\n",
            "381/381 [==============================] - 0s 112us/sample - loss: 0.1029 - accuracy: 0.9685 - val_loss: 0.1330 - val_accuracy: 0.9574\n",
            "Epoch 117/120\n",
            "381/381 [==============================] - 0s 114us/sample - loss: 0.1023 - accuracy: 0.9685 - val_loss: 0.1325 - val_accuracy: 0.9574\n",
            "Epoch 118/120\n",
            "381/381 [==============================] - 0s 103us/sample - loss: 0.1018 - accuracy: 0.9685 - val_loss: 0.1320 - val_accuracy: 0.9574\n",
            "Epoch 119/120\n",
            "381/381 [==============================] - 0s 104us/sample - loss: 0.1012 - accuracy: 0.9685 - val_loss: 0.1316 - val_accuracy: 0.9574\n",
            "Epoch 120/120\n",
            "381/381 [==============================] - 0s 110us/sample - loss: 0.1007 - accuracy: 0.9685 - val_loss: 0.1312 - val_accuracy: 0.9574\n"
          ],
          "name": "stdout"
        }
      ]
    },
    {
      "cell_type": "code",
      "metadata": {
        "id": "WIZAhfmANVzJ",
        "colab_type": "code",
        "colab": {
          "base_uri": "https://localhost:8080/",
          "height": 107
        },
        "outputId": "43785c99-30cc-48e4-d8c8-c154c76596c0"
      },
      "source": [
        "# Evaluating the model\n",
        "print('Train Score',model.evaluate(X_train,y_train))\n",
        "print('Test Score', model.evaluate(X_test,y_test))"
      ],
      "execution_count": 14,
      "outputs": [
        {
          "output_type": "stream",
          "text": [
            "\r381/1 [======================================================================================================================================================================================================================================================================================================================================================================================================================================================================================================================================================================================================================================================================================================================================================================================================================================================================================================================================================================================================================================================================================================================================================================================================================================================================================================================================================================================================================================================================================================================================================================================================================================================================================================================================================================================================================================================================================================================================================================================================================================================================================================================================================================================================================================================================================================================================================================================================================================================================================================================================================================================================================================================================================================================================================================================================================================================================================================================================================================================================================================================================================================================================================================================================================================================================================================================================================================================================================================================================================================================================================================================================================================================================================================================================================================================================================================================================================================================================================================================================================================================================================================================================================================================================================================================================================================================================================================================================================================================================================================================================================================================================================================================================================================================================================================================================================================================================================================================================================================================================================================================================================================================================================================================================================================================================================================================================================================================================================================================================================================================================================================================================================================================================================================================================================================================================================================================================================================================================================================================================================================================================================================================================================================================================================================================================================================================================================================================================================================================================================================================================================================================================================================================================================================================================================================================================================================================================================================================================================================================================================================================================================================================================================================================================================================================================================================================================================================================================================================================================================================================================================================================================================================================================================================================================================================================================================================================================================================================================================================================================================================================================================================================================================================================================================================================================================================================================================================================================================================================================================================================================================================================================================================================================================================================================================================================================================================================================================================================================================================================================================================================================================================================================================================================================================================================================================================================================================================================================================================================================================================================================================================================================================================================================================================================================================================================================================================================================================================================================================================================================================================================================================================================================================================================================================================================================================================================================================================================================================================================================================================================================================================================================================================================================================================================================================================================================================================================================================================================================================================================================================================================================================================================================================================================================================================================================================================================================================================================================================================================================================================================================================================================================================================================================================================================================================================================================================================================================================================] - 0s 41us/sample - loss: 0.1104 - accuracy: 0.9685\n",
            "Train Score [0.10035619100560667, 0.96850395]\n",
            "188/1 [========================================================================================================================================================================================================================================================================================================================================================================================================================================================================================================================================================================================================================================================================================================================================================================================================================================================================================================================================================================================================================================================================================================================================================================================================================================================================================================================================================================================================================================================================================================================================================================================================================================================================================================================================================================================================================================================================================================================================================================================================================================================================================================================================================================================================================================================================================================================================================================================================================================================================================================================================================================================================================================================================================================================================================================================================================================================================================================================================================================================================================================================================================================================================================================================================================================================================================================================================================================================================================================================================================================================================================================================================================================================================================================================================================================================================================================================================================================================================================================================================================================================================================================================================================================================================================================================================================================================================================================================================================================================================================================================================================================================================================================================================================================================================================================================================================================================================================================================================================================================================================================================================================================================================================================================================================================================================================================================================================================================================================================================================================================================================================================================================================================================================================================================================================================================================================================================================] - 0s 46us/sample - loss: 0.1041 - accuracy: 0.9574\n",
            "Test Score [0.13118757386790944, 0.9574468]\n"
          ],
          "name": "stdout"
        }
      ]
    },
    {
      "cell_type": "code",
      "metadata": {
        "id": "vJLTFAlFPyqt",
        "colab_type": "code",
        "colab": {
          "base_uri": "https://localhost:8080/",
          "height": 283
        },
        "outputId": "890a0ba1-9201-481a-9faa-e9ec669f9999"
      },
      "source": [
        "# plot, whats returned by model.fit\n",
        "import matplotlib.pyplot as plt\n",
        "\n",
        "plt.plot(r.history['loss'],label='loss')\n",
        "plt.plot(r.history['val_loss'],label='Validation loss')\n",
        "plt.legend()"
      ],
      "execution_count": 15,
      "outputs": [
        {
          "output_type": "execute_result",
          "data": {
            "text/plain": [
              "<matplotlib.legend.Legend at 0x7fdf7bbd2400>"
            ]
          },
          "metadata": {
            "tags": []
          },
          "execution_count": 15
        },
        {
          "output_type": "display_data",
          "data": {
            "image/png": "[encoded data removed]",
            "text/plain": [
              "<Figure size 432x288 with 1 Axes>"
            ]
          },
          "metadata": {
            "tags": []
          }
        }
      ]
    },
    {
      "cell_type": "code",
      "metadata": {
        "id": "hEZSp6HlQb5w",
        "colab_type": "code",
        "colab": {
          "base_uri": "https://localhost:8080/",
          "height": 283
        },
        "outputId": "b23b5655-a082-4bda-955d-57909862a6ba"
      },
      "source": [
        "plt.plot(r.history['accuracy'],label='Accuracy')\n",
        "plt.plot(r.history['val_accuracy'],label='Validation Accuracy')\n",
        "plt.legend()"
      ],
      "execution_count": 16,
      "outputs": [
        {
          "output_type": "execute_result",
          "data": {
            "text/plain": [
              "<matplotlib.legend.Legend at 0x7fdf7bf574a8>"
            ]
          },
          "metadata": {
            "tags": []
          },
          "execution_count": 16
        },
        {
          "output_type": "display_data",
          "data": {
            "image/png": "[encoded data removed]",
            "text/plain": [
              "<Figure size 432x288 with 1 Axes>"
            ]
          },
          "metadata": {
            "tags": []
          }
        }
      ]
    },
    {
      "cell_type": "code",
      "metadata": {
        "id": "59uO1d-4Q46g",
        "colab_type": "code",
        "colab": {}
      },
      "source": [
        "p=model.predict(X_test)"
      ],
      "execution_count": 0,
      "outputs": []
    },
    {
      "cell_type": "code",
      "metadata": {
        "id": "5f6xk-bkoLLz",
        "colab_type": "code",
        "colab": {
          "base_uri": "https://localhost:8080/",
          "height": 1000
        },
        "outputId": "513b106a-a5c3-4167-b163-645fc494b29d"
      },
      "source": [
        "p"
      ],
      "execution_count": 19,
      "outputs": [
        {
          "output_type": "execute_result",
          "data": {
            "text/plain": [
              "array([[8.5010731e-01],\n",
              "       [9.3239236e-01],\n",
              "       [7.9082459e-01],\n",
              "       [2.1523535e-03],\n",
              "       [5.1723123e-02],\n",
              "       [1.0239893e-01],\n",
              "       [7.3475635e-01],\n",
              "       [9.7348487e-01],\n",
              "       [9.7845143e-01],\n",
              "       [9.8545837e-01],\n",
              "       [2.5849700e-02],\n",
              "       [9.9749064e-01],\n",
              "       [2.0613372e-02],\n",
              "       [7.2939396e-03],\n",
              "       [9.2765200e-01],\n",
              "       [9.7601581e-01],\n",
              "       [1.3698757e-02],\n",
              "       [1.1134148e-04],\n",
              "       [9.9671978e-01],\n",
              "       [9.9673998e-01],\n",
              "       [9.9885082e-01],\n",
              "       [9.9243569e-01],\n",
              "       [9.9982440e-01],\n",
              "       [9.9660826e-01],\n",
              "       [9.5227587e-01],\n",
              "       [3.2128692e-02],\n",
              "       [3.2424927e-04],\n",
              "       [9.2505360e-01],\n",
              "       [2.5033951e-06],\n",
              "       [9.7817862e-01],\n",
              "       [9.5581752e-01],\n",
              "       [9.9682313e-01],\n",
              "       [8.7644410e-01],\n",
              "       [6.0695410e-04],\n",
              "       [9.9865210e-01],\n",
              "       [8.8186759e-01],\n",
              "       [1.4633814e-01],\n",
              "       [9.7570932e-01],\n",
              "       [9.9786770e-01],\n",
              "       [9.7965378e-01],\n",
              "       [1.8375257e-01],\n",
              "       [7.2100741e-01],\n",
              "       [2.8831869e-02],\n",
              "       [9.5472777e-01],\n",
              "       [8.1210136e-03],\n",
              "       [9.9585485e-01],\n",
              "       [3.6218911e-02],\n",
              "       [6.7747098e-01],\n",
              "       [9.9816275e-01],\n",
              "       [1.9080043e-03],\n",
              "       [1.8656254e-05],\n",
              "       [9.2988604e-01],\n",
              "       [2.2605658e-03],\n",
              "       [9.8258203e-01],\n",
              "       [1.2397766e-05],\n",
              "       [9.6217352e-01],\n",
              "       [9.6817923e-01],\n",
              "       [9.9971199e-01],\n",
              "       [8.2211018e-01],\n",
              "       [3.1341517e-01],\n",
              "       [9.2004061e-01],\n",
              "       [9.5105147e-01],\n",
              "       [8.2092917e-01],\n",
              "       [9.3729794e-03],\n",
              "       [2.2844741e-01],\n",
              "       [9.6768057e-01],\n",
              "       [1.3602078e-03],\n",
              "       [9.9764740e-01],\n",
              "       [8.6993247e-02],\n",
              "       [7.0766038e-01],\n",
              "       [9.8798084e-01],\n",
              "       [9.9746287e-01],\n",
              "       [3.4322321e-02],\n",
              "       [9.0559959e-01],\n",
              "       [7.7227938e-01],\n",
              "       [3.9810330e-02],\n",
              "       [9.6423995e-01],\n",
              "       [1.8568635e-03],\n",
              "       [3.5242558e-02],\n",
              "       [9.1312176e-01],\n",
              "       [9.9699342e-01],\n",
              "       [9.9567389e-01],\n",
              "       [8.7091267e-01],\n",
              "       [8.3067095e-01],\n",
              "       [2.6348233e-03],\n",
              "       [9.9283314e-01],\n",
              "       [4.4066608e-02],\n",
              "       [7.1595192e-02],\n",
              "       [8.8777602e-01],\n",
              "       [9.3395984e-01],\n",
              "       [1.6794056e-02],\n",
              "       [9.9627757e-01],\n",
              "       [1.2367964e-05],\n",
              "       [9.9516743e-01],\n",
              "       [5.1370859e-03],\n",
              "       [8.8016880e-01],\n",
              "       [8.4864259e-01],\n",
              "       [9.7089946e-01],\n",
              "       [9.4785857e-01],\n",
              "       [1.3816264e-01],\n",
              "       [9.5800328e-01],\n",
              "       [1.7270207e-02],\n",
              "       [6.5517426e-04],\n",
              "       [7.2071534e-01],\n",
              "       [7.9694545e-01],\n",
              "       [9.5359671e-01],\n",
              "       [8.5387671e-01],\n",
              "       [9.9908251e-01],\n",
              "       [1.6510487e-05],\n",
              "       [2.5447518e-02],\n",
              "       [9.9796391e-01],\n",
              "       [9.1206628e-01],\n",
              "       [9.9727017e-01],\n",
              "       [7.9702783e-01],\n",
              "       [9.5386416e-01],\n",
              "       [9.8783898e-01],\n",
              "       [9.9560809e-01],\n",
              "       [2.1541119e-04],\n",
              "       [9.2740273e-01],\n",
              "       [9.9481344e-01],\n",
              "       [3.3020973e-04],\n",
              "       [9.6349722e-01],\n",
              "       [2.9330820e-02],\n",
              "       [9.7423005e-01],\n",
              "       [9.9949133e-01],\n",
              "       [1.4364719e-05],\n",
              "       [6.4455867e-03],\n",
              "       [9.9221414e-01],\n",
              "       [9.8964179e-01],\n",
              "       [7.9985619e-01],\n",
              "       [9.1169405e-01],\n",
              "       [7.5763464e-04],\n",
              "       [9.9904203e-01],\n",
              "       [8.5053188e-01],\n",
              "       [1.5425831e-01],\n",
              "       [9.9680692e-01],\n",
              "       [9.6234393e-01],\n",
              "       [9.7490668e-01],\n",
              "       [4.7396654e-01],\n",
              "       [4.3416798e-02],\n",
              "       [9.0160823e-01],\n",
              "       [9.4716084e-01],\n",
              "       [3.4171492e-01],\n",
              "       [3.4732169e-01],\n",
              "       [9.7734702e-01],\n",
              "       [6.8528742e-02],\n",
              "       [1.1779070e-03],\n",
              "       [7.4241102e-02],\n",
              "       [7.2231036e-01],\n",
              "       [8.6231411e-01],\n",
              "       [6.7087710e-01],\n",
              "       [4.2253733e-04],\n",
              "       [2.4259746e-02],\n",
              "       [9.8944545e-01],\n",
              "       [7.1057951e-01],\n",
              "       [7.9303980e-05],\n",
              "       [9.5704830e-01],\n",
              "       [9.9751282e-01],\n",
              "       [9.8178989e-01],\n",
              "       [5.2025503e-01],\n",
              "       [2.2321939e-05],\n",
              "       [5.6365132e-04],\n",
              "       [9.1132486e-01],\n",
              "       [8.5875392e-04],\n",
              "       [2.5974602e-02],\n",
              "       [9.2626899e-01],\n",
              "       [6.5338731e-01],\n",
              "       [9.8561889e-01],\n",
              "       [9.8698360e-01],\n",
              "       [2.2943744e-01],\n",
              "       [9.7664797e-01],\n",
              "       [8.3269686e-02],\n",
              "       [1.0895762e-01],\n",
              "       [9.8033464e-01],\n",
              "       [9.0105563e-01],\n",
              "       [7.1774441e-01],\n",
              "       [9.8857200e-01],\n",
              "       [9.9644631e-01],\n",
              "       [5.0007403e-03],\n",
              "       [9.9944633e-01],\n",
              "       [7.4666440e-03],\n",
              "       [9.9927723e-01],\n",
              "       [9.9214649e-01],\n",
              "       [8.9820534e-02],\n",
              "       [9.1490698e-01],\n",
              "       [9.9879020e-01],\n",
              "       [7.4262744e-01],\n",
              "       [9.5521879e-01]], dtype=float32)"
            ]
          },
          "metadata": {
            "tags": []
          },
          "execution_count": 19
        }
      ]
    },
    {
      "cell_type": "code",
      "metadata": {
        "id": "JbMHS3aBoMY8",
        "colab_type": "code",
        "colab": {}
      },
      "source": [
        "# We need to round the  prediction proabability to 1 or 0\n",
        "#Note: we need to flatten because The targets are size (N,) and our predictions\n",
        "# are (N,1) \n",
        "import numpy as np\n",
        "P=np.round(p).flatten()\n"
      ],
      "execution_count": 0,
      "outputs": []
    },
    {
      "cell_type": "code",
      "metadata": {
        "id": "l7M8NcJ8pFf1",
        "colab_type": "code",
        "colab": {
          "base_uri": "https://localhost:8080/",
          "height": 89
        },
        "outputId": "8bdda0d5-3849-4e01-ffa6-8085085c7b25"
      },
      "source": [
        "# Compare the accuracy of the model\n",
        "\n",
        "print('Accuracy of the model is',np.mean(P==y_test))\n",
        "print('accyracy of the model is ',model.evaluate(X_test,y_test))"
      ],
      "execution_count": 28,
      "outputs": [
        {
          "output_type": "stream",
          "text": [
            "Accuracy of the model is 0.9574468085106383\n",
            "\r188/1 [========================================================================================================================================================================================================================================================================================================================================================================================================================================================================================================================================================================================================================================================================================================================================================================================================================================================================================================================================================================================================================================================================================================================================================================================================================================================================================================================================================================================================================================================================================================================================================================================================================================================================================================================================================================================================================================================================================================================================================================================================================================================================================================================================================================================================================================================================================================================================================================================================================================================================================================================================================================================================================================================================================================================================================================================================================================================================================================================================================================================================================================================================================================================================================================================================================================================================================================================================================================================================================================================================================================================================================================================================================================================================================================================================================================================================================================================================================================================================================================================================================================================================================================================================================================================================================================================================================================================================================================================================================================================================================================================================================================================================================================================================================================================================================================================================================================================================================================================================================================================================================================================================================================================================================================================================================================================================================================================================================================================================================================================================================================================================================================================================================================================================================================================================================================================================================================================================] - 0s 45us/sample - loss: 0.1041 - accuracy: 0.9574\n",
            "accyracy of the model is  [0.13118757386790944, 0.9574468]\n"
          ],
          "name": "stdout"
        }
      ]
    },
    {
      "cell_type": "code",
      "metadata": {
        "id": "hydNwCqBp90r",
        "colab_type": "code",
        "colab": {}
      },
      "source": [
        ""
      ],
      "execution_count": 0,
      "outputs": []
    }
  ]
}